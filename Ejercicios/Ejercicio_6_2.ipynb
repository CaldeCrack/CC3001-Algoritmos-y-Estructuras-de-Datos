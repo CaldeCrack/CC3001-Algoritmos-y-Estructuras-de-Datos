{
  "cells": [
    {
      "cell_type": "markdown",
      "metadata": {
        "id": "view-in-github",
        "colab_type": "text"
      },
      "source": [
        "<a href=\"https://colab.research.google.com/github/CaldeCrack/CC3001-Algoritmos-y-Estructuras-de-Datos/blob/main/Ejercicios/Ejercicio_6_2.ipynb\" target=\"_parent\"><img src=\"https://colab.research.google.com/assets/colab-badge.svg\" alt=\"Open In Colab\"/></a>"
      ]
    },
    {
      "cell_type": "markdown",
      "metadata": {
        "id": "3EsK8e742pbw"
      },
      "source": [
        "### Ejercicio 6.2 (Número de operaciones *split*)\n",
        "\n",
        "Supongamos que comenzamos con un árbol 2-3 vacío y a continuación insertamos $n$ llaves. El objetivo de este ejercicio es calcular cuántas operaciones *split* se pueden llegar a ejecutar a lo largo de este proceso, en el peor caso.\n",
        "\n",
        "Una manera de acotar este número de operaciones es ver que una inserción puede gatillar la ejecución de $O(\\log{n})$ operaciones *split*, y como son $n$ inserciones, el número total de operaciones *split* es $O(n\\log{n})$.\n",
        "\n",
        "Lo anterior es una cota superior, pero en realidad está muy sobredimensionada.\n",
        "\n",
        "Demuestre que el número total de operaciones *split* ejecutadas al insertar $n$ llaves comenzando con un árbol 2-3 vacío es $O(n)$ en el peor caso. Escriba su demostración en el siguiente recuadro.\n",
        "\n",
        "*Indicación*: Considere el impacto de un *split* sobre el número de nodos del árbol."
      ]
    },
    {
      "cell_type": "markdown",
      "metadata": {
        "id": "F76NsGoh2pbx"
      },
      "source": [
        "#### Demostración:"
      ]
    },
    {
      "cell_type": "markdown",
      "metadata": {
        "id": "OhEmthrb2pby"
      },
      "source": [
        "Antes notemos que si queremos maximizar la cantidad de *splits* que ocurren al ir insertando elementos debemos ir siempre agregando elementos mayores (o análogamente menores) para que siempre vayan quedandose la derecha del árbol, por lo que de esta forma logramos que se vayan concentrando y acumulando los nodos terciarios para que luego se vayan dividiendo. De otro modo si agregamos un valor que no sea mayor al más grande estaremos perdiendo cantidad de *splits* pues se puede evidenciar que si hicieramos lo contrario, es decir, evitar dividir nodos terciarios, terminaríamos con un árbol formado unicamente de nodos terciarios constantemente tras muchos más movimientos habiendo usado pocos splits que si se hiciera por el método anterior, por lo que, todo lo dicho a continuación es usando el procedimiento mencionado.\n",
        "\n",
        "Entonces primero evidenciamos que tras agregar 3 valores se tiene el primer *split*, y cuando ya tenemos siempre al menos un nodo con hijos la relación cambia dado que en este caso la mínima cantidad de inserciones necesarias para realizar otro *split* aumenta a 4, de modo que siempre cada 4 elementos que agreguemos ocurrirán 2 *splits*, y ahora analizamos en profundidad la cantidad de splits.\n",
        "\n",
        "Debemos notar que es relevante que por el método que usamos la altura del árbol está dada por $log_2(n+1)$, y por lo tanto, existe un cambio de altura cuando $n=2^k-1$, con *k* un número natural, de modo que para simplificar el cálculo veremos la cantidad de splits que ocurren para estos *n* (1, 3, 7, 15, 31, ...):\n",
        "\n",
        "$$\n",
        "n=1 \\Rightarrow 0\\,splits \\\\\n",
        "n=3 \\Rightarrow 1\\,splits \\\\\n",
        "n=7 \\Rightarrow 1+(2\\cdot1)\\,splits \\\\\n",
        "n=15 \\Rightarrow 1+2+(2\\cdot2+1)\\,splits \\\\\n",
        "n=31 \\Rightarrow 1+2+5+(2\\cdot5+1)\\,splits \\\\\n",
        "n=63 \\Rightarrow 1+2+5+11+(2\\cdot11+1)\\,splits \\\\\n",
        "n=127 \\Rightarrow 1+2+5+11+23+(2\\cdot23+1)\\,splits \\\\\n",
        "...\n",
        "$$\n",
        "\n",
        "Ciertamente puede observarse una relación de la cual obtenemos:\n",
        "\n",
        "|    h   | 1 | 2 | 3 |  4 |  5 |  6 |  7  | ... |\n",
        "|:------:|:-:|:-:|:-:|:--:|:--:|:--:|:---:|:---:|\n",
        "|    n   | 1 | 3 | 7 | 15 | 31 | 63 | 127 | ... |\n",
        "| splits | 0 | 1 | 3 |  8 | 19 | 42 |  89 | ... |\n",
        "\n",
        "Para la cual obtenemos que la fórmula de recursión de la cantidad de los splits en función de su altura (para $h\\ge2$) es:\n",
        "\n",
        "$$\n",
        "a(h)=a(h-1)+2(a(h-1)-a(h-2))+1 \\\\\n",
        "a(h)=3a(h-1)-2a(h-2)+1 \\\\\n",
        "a(2)=1,\\, a(3)=3\n",
        "$$\n",
        "\n",
        "Escribimos también $a(h-1)$:\n",
        "\n",
        "$$\n",
        "a(h-1)=3a(h-2)-2a(h-3)+1\n",
        "$$\n",
        "\n",
        "Restamos $a(h)$ con $a(h-1)$ y queda la siguiente ecuación:\n",
        "\n",
        "$$\n",
        "a(h)-4a(h-1)+5a(h-2)-2a(h-3)=0\n",
        "$$\n",
        "\n",
        "Asumimos solución del tipo $\\lambda^h$ y queda:\n",
        "\n",
        "$$\n",
        "\\lambda^h-4\\lambda^{h-1}+5\\lambda^{h-2}-2\\lambda^{h-3}=0\n",
        "$$\n",
        "\n",
        "Dividimos por $\\lambda^{h-3}$:\n",
        "\n",
        "$$\n",
        "\\lambda^3-4\\lambda^2+5\\lambda-2=0\n",
        "$$\n",
        "\n",
        "Por la suma de los coeficientes numéricos notamos que $\\lambda=1$ es solución y que por ende la ecuación se puede factorizar como:\n",
        "\n",
        "$$\n",
        "\\lambda^3-\\lambda^2-3\\lambda^2+3\\lambda+2\\lambda-2=0 \\\\\n",
        "\\lambda^2(\\lambda-1)-3\\lambda(\\lambda-1)+2(\\lambda-1)=0 \\\\\n",
        "(\\lambda-1)(\\lambda^2-3\\lambda+2)=0\n",
        "$$\n",
        "\n",
        "De lo cual salen las siguientes 2 soluciones (el 1 se repite):\n",
        "\n",
        "$$\n",
        "\\lambda=1,\\, \\lambda=2\n",
        "$$\n",
        "\n",
        "Entonces tenemos que la ecuación es una combinación lineal de estas soluciones, además que consideramos la raíz repetida:\n",
        "\n",
        "$$\n",
        "a(h)=C_11^h+C_2h1^h+C_32^h=C_32^h+C_2h+C_1\n",
        "$$\n",
        "\n",
        "Ahora bien necesitamos conseguir el valor de las constantes, por lo que primero para calcular $C_2$ reemplazamos la última ecuación obtenida en la ecuación de recursión inicial, quedando así:\n",
        "\n",
        "$$\n",
        "a(h)=3a(h-1)-2a(h-2)+1 \\\\\n",
        "⇒C_32^h+C_2h+C1=3(C_3h^{h-1}+C_2(h-1)+C_1)-2(C_32^{h-2}+C_2(h-2)+C_1)+1 \\\\\n",
        "⇒-2C_2=2⇒C_2=-1\n",
        "$$\n",
        "\n",
        "Y para obtener $C_1$ y $C_3$ usamos las condiciones iniciales:\n",
        "\n",
        "$$\n",
        "a(2)=1⇒C_32^2-2+C_1=1⇒4C_3+C_1=3 \\\\\n",
        "a(3)=3⇒C_32^3-3+C_1=3⇒8C_3+C_1=6\n",
        "$$\n",
        "\n",
        "Resolviendo el sistema de ecuaciones se obtiene:\n",
        "\n",
        "$$\n",
        "C_3=\\frac{3}{4} \\\\\n",
        "C_1=0\n",
        "$$\n",
        "\n",
        "Por lo que $a(h)$ es igual a:\n",
        "\n",
        "$$\n",
        "a(h)=\\frac{3}{4}\\cdot2^h-h\n",
        "$$\n",
        "\n",
        "Pero tenemos una relación entre $h$ y $n$ con la cual si reemplazamos en $a(h)$ se obtiene:\n",
        "\n",
        "$$\n",
        "a(n)=\\frac{3}{4}(n+1)-log_2(n+1)\n",
        "$$\n",
        "\n",
        "De modo que finalmente el orden de esta ecuación es $O(n)$ puesto que el orden linear prevalece por sobre el logarítmico, y las constantes aditivas y multiplicativas no las consideramos, con lo que se concluye la demostración."
      ]
    }
  ],
  "metadata": {
    "kernelspec": {
      "display_name": "Python 3",
      "language": "python",
      "name": "python3"
    },
    "language_info": {
      "codemirror_mode": {
        "name": "ipython",
        "version": 3
      },
      "file_extension": ".py",
      "mimetype": "text/x-python",
      "name": "python",
      "nbconvert_exporter": "python",
      "pygments_lexer": "ipython3",
      "version": "3.6.3"
    },
    "colab": {
      "provenance": [],
      "include_colab_link": true
    }
  },
  "nbformat": 4,
  "nbformat_minor": 0
}