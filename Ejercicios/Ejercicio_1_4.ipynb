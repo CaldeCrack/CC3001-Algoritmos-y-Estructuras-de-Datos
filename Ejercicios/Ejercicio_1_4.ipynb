{
  "cells": [
    {
      "cell_type": "markdown",
      "metadata": {
        "id": "view-in-github",
        "colab_type": "text"
      },
      "source": [
        "<a href=\"https://colab.research.google.com/github/CaldeCrack/CC3001-Algoritmos-y-Estructuras-de-Datos/blob/main/Ejercicios/Ejercicio_1_4.ipynb\" target=\"_parent\"><img src=\"https://colab.research.google.com/assets/colab-badge.svg\" alt=\"Open In Colab\"/></a>"
      ]
    },
    {
      "cell_type": "markdown",
      "metadata": {
        "id": "0WXkxg8Ud5BB"
      },
      "source": [
        "### Ejercicio 1.4\n",
        "\n",
        "Se le llama \"Camel Case\" a la convención de escribir una frase sin espacios, pero marcando el inicio de cada palabra poniendo su primera letra en mayúscula. Por ejemplo, la frase\n",
        "```\n",
        "\"  Algoritmos y    estructuras de   datos   \"\n",
        "```\n",
        "transformada a Camel Case queda así:\n",
        "```\n",
        "\"AlgoritmosYEstructurasDeDatos\"\n",
        "```\n",
        "\n",
        "Escriba una función que transforme a Camel Case y pruébela:"
      ]
    },
    {
      "cell_type": "code",
      "execution_count": null,
      "metadata": {
        "id": "gSPpORq-d5BB"
      },
      "outputs": [],
      "source": [
        "def CamelCase(s):\n",
        "    \"\"\"Retorna un string conteniendo la versión Camel Case del string s\"\"\"\n",
        "    a = \"\"\n",
        "    state = True # True = vacio, False = palabra\n",
        "    for i in s:\n",
        "      if i != \" \" and state: # Caso primera letra de una palabra\n",
        "        a += i.upper()\n",
        "        state = False\n",
        "      elif i == \" \": # Caso termino de una palabra\n",
        "        i = i.upper()\n",
        "        state = True\n",
        "      else: # Caso aparición de un espacio\n",
        "        a += i\n",
        "    return s"
      ]
    },
    {
      "cell_type": "code",
      "execution_count": null,
      "metadata": {
        "id": "4pnBSUJ3d5BB",
        "colab": {
          "base_uri": "https://localhost:8080/"
        },
        "outputId": "1e34dd85-6fd6-43ac-bb63-86a09e681aa1"
      },
      "outputs": [
        {
          "output_type": "stream",
          "name": "stdout",
          "text": [
            "    Algoritmos y    estructuras de   datos   \n"
          ]
        }
      ],
      "source": [
        "print(CamelCase(\"    Algoritmos y    estructuras de   datos   \"))"
      ]
    }
  ],
  "metadata": {
    "kernelspec": {
      "display_name": "Python 3",
      "language": "python",
      "name": "python3"
    },
    "language_info": {
      "codemirror_mode": {
        "name": "ipython",
        "version": 3
      },
      "file_extension": ".py",
      "mimetype": "text/x-python",
      "name": "python",
      "nbconvert_exporter": "python",
      "pygments_lexer": "ipython3",
      "version": "3.6.9"
    },
    "colab": {
      "provenance": [],
      "include_colab_link": true
    }
  },
  "nbformat": 4,
  "nbformat_minor": 0
}