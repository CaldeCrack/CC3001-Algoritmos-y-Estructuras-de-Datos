{
  "cells": [
    {
      "cell_type": "markdown",
      "metadata": {
        "id": "view-in-github",
        "colab_type": "text"
      },
      "source": [
        "<a href=\"https://colab.research.google.com/github/CaldeCrack/CC3001-Algoritmos-y-Estructuras-de-Datos/blob/main/Ejercicios/Ejercicio_1_1.ipynb\" target=\"_parent\"><img src=\"https://colab.research.google.com/assets/colab-badge.svg\" alt=\"Open In Colab\"/></a>"
      ]
    },
    {
      "cell_type": "markdown",
      "source": [
        "# Estudiante: Andrés Calderón"
      ],
      "metadata": {
        "id": "CarUreoamvPb"
      }
    },
    {
      "cell_type": "markdown",
      "metadata": {
        "id": "vopAG4PamLHN"
      },
      "source": [
        "### Ejercicio 1.1\n",
        "\n",
        "La función ``maximo`` hace $n-1$ comparaciones de elementos para encontrar el máximo de un conjunto de tamaño $n$.\n"
      ]
    },
    {
      "cell_type": "code",
      "execution_count": null,
      "metadata": {
        "id": "-kE-rMbhmLHS",
        "outputId": "589302bb-f15a-43de-83cb-3c83148b457f",
        "colab": {
          "base_uri": "https://localhost:8080/"
        }
      },
      "outputs": [
        {
          "output_type": "stream",
          "name": "stdout",
          "text": [
            "93\n"
          ]
        }
      ],
      "source": [
        "# Encuentra el máximo de una lista a\n",
        "def maximo(a):\n",
        "    m=a[0]\n",
        "    # Al comenzar cada iteración, se cumple que m==max(a[0],...,a[k-1])\n",
        "    for k in range(1,len(a)):\n",
        "        if a[k]>m:\n",
        "            m=a[k]\n",
        "    return m\n",
        "\n",
        "print(maximo([25, 42, 93, 17, 54, 28]))"
      ]
    },
    {
      "cell_type": "markdown",
      "metadata": {
        "id": "DJcPNNPGmLHU"
      },
      "source": [
        "Supongamos que se desea escribir una función ``minmax`` que al ser llamada con una lista de números, retorne un par ordenado (tupla) ``(min,max)``, con el mínimo y el máximo elemento del conjunto, respectivamente. Escriba a continuación esa función haciendo dos pasadas sobre los datos: una para encontrar el mínimo y otra para encontrar el máximo, y pruébela sobre una lista de ejemplo."
      ]
    },
    {
      "cell_type": "code",
      "execution_count": null,
      "metadata": {
        "id": "lYf4I7_cmLHV"
      },
      "outputs": [],
      "source": [
        "def minmax(a):\n",
        "    # Ajuste para listas vacías (según lo dicho en cátedra) agregando una iteración al algoritmo\n",
        "    if len(a) == 0:\n",
        "      return (\"+infinito,-infinito\")\n",
        "    # Se realizan n-1 iteraciones para encontrar el mínimo\n",
        "    minimo = a[0]\n",
        "    for i in range(1, len(a)):\n",
        "        if a[i] < minimo:\n",
        "            minimo = a[i]\n",
        "    # Se realizan n-1 iteraciones para encontrar el máximo\n",
        "    maximo = a[0]\n",
        "    for i in range(1, len(a)):\n",
        "        if a[i] > maximo:\n",
        "            maximo = a[i]\n",
        "    # En total se realizan 1 + n - 1 + n - 1 iteraciones para encontrar\n",
        "    # ambos valores, para dar un total de 2n - 1 comparaciones\n",
        "\n",
        "    return(minimo,maximo)\n",
        "\n",
        "# Probarla acá\n",
        "assert minmax([]) == (\"+infinito,-infinito\") # lista vacía\n",
        "assert minmax([2]) == (2,2) # lista de un elemento\n",
        "assert minmax([25, 42, 93, 17, 54, 28]) == (17,93) # lista genérica"
      ]
    },
    {
      "cell_type": "markdown",
      "metadata": {
        "id": "0WpPBmYPmLHW"
      },
      "source": [
        "La función anterior debería hacer $2n-2$ comparaciones de elementos ($2n-3$ si se evita comparar el elemento seleccionado en la primera pasada). ¿Será posible encontrar el mínimo y el máximo haciendo muchas menos comparaciones?\n",
        "\n",
        "¡La respuesta es que sí! Veámoslo con un ejemplo. Para simplificar, supongamos que la lista es de largo par:\n",
        "\n",
        "$$\n",
        "[45,21,34,67,55,89,44,12]\n",
        "$$\n",
        "\n",
        "Luego comparemos cada elemento que está en una posición par con su vecino de la derecha, e intercambiémoslos de modo que el par quede en orden ascendente (recuerde que las posiciones comienzan desde cero):\n",
        "\n",
        "$$\n",
        "[21,45,34,67,55,89,12,44]\n",
        "$$\n",
        "\n",
        "Luego hagamos una pasada solo sobre las posiciones pares para encontrar el mínimo ($12$), y otra pasada solo entre las posiciones impares para encontrar el máximo ($89$). ¡Listo!\n",
        "\n",
        "Programe este nuevo algoritmo, pruébelo y diga cuántas comparaciones hace en total:\n",
        "\n",
        "---"
      ]
    },
    {
      "cell_type": "code",
      "execution_count": null,
      "metadata": {
        "id": "F3Et2xTgmLHY"
      },
      "outputs": [],
      "source": [
        "def minmax(a):\n",
        "    l = len(a)\n",
        "    # Ajuste para listas vacías (según lo dicho en cátedra) agregando una iteración al algoritmo\n",
        "    if len(a) == 0:\n",
        "      return (\"+infinito,-infinito\")\n",
        "    # Ajuste para listas de largo impar agregando dos comparaciones al total\n",
        "    if a[0] < a[-1]:\n",
        "      (a[0], a[-1]) = (a[-1], a[0])\n",
        "    if l % 2 != 0:\n",
        "      l -= 1\n",
        "    # Ajuste para caso particular de lista de un solo elemento sumando una iteración\n",
        "    if l == 0:\n",
        "      return(a[0],a[0])\n",
        "    # Al reordenar la lista se hacen n/2 comparaciones\n",
        "    for i in range(0, l, 2):\n",
        "      if a[i] > a[i+1]:\n",
        "        (a[i], a[i+1]) = (a[i+1], a[i])\n",
        "    # Para obtener el mínimo se hacen n/2 - 1 comparaciones\n",
        "    minimo = a[0]\n",
        "    for i in range(2, len(a), 2):\n",
        "        if a[i] < minimo:\n",
        "            minimo = a[i]\n",
        "    # Para obtener el máximo se hacen n/2 - 1 comparaciones\n",
        "    maximo = a[1]\n",
        "    for i in range(3, l, 2):\n",
        "        if a[i] > maximo:\n",
        "            maximo = a[i]\n",
        "    \"\"\"\n",
        "    En total se realizan 1 + 2 + 1 + n/2 + n/2 - 1 + n/2 - 1 comparaciones, lo\n",
        "    que es igual a 1.5n + 2 en listas de 2 o más elementos, mientras que se\n",
        "    realizan de 1 a 4 iteraciones en casos particulares, evidenciando una menor\n",
        "    cantidad de ciclos respecto al algoritmo anterior en la mayoría de casos\n",
        "    \"\"\"\n",
        "\n",
        "    return(minimo,maximo)\n",
        "\n",
        "# Probarla acá\n",
        "assert minmax([]) == (\"+infinito,-infinito\") # lista vacía\n",
        "assert minmax([5]) == (5,5) # lista de un elemento\n",
        "assert minmax([45, 21, 34, 67, 55, 89, 44, 12]) == (12,89) # cantidad par de elementos\n",
        "assert minmax([24, 10, 79, 55, 2, 91, 92, 36, 8, 17, 60]) == (2,92) # cantidad impar de elementos"
      ]
    }
  ],
  "metadata": {
    "kernelspec": {
      "display_name": "Python 3",
      "language": "python",
      "name": "python3"
    },
    "language_info": {
      "codemirror_mode": {
        "name": "ipython",
        "version": 3
      },
      "file_extension": ".py",
      "mimetype": "text/x-python",
      "name": "python",
      "nbconvert_exporter": "python",
      "pygments_lexer": "ipython3",
      "version": "3.6.9"
    },
    "colab": {
      "provenance": [],
      "include_colab_link": true
    }
  },
  "nbformat": 4,
  "nbformat_minor": 0
}