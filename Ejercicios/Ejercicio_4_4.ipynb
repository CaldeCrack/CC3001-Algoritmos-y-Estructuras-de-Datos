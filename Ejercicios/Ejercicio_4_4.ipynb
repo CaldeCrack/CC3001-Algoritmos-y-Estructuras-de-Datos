{
  "cells": [
    {
      "cell_type": "markdown",
      "metadata": {
        "id": "view-in-github",
        "colab_type": "text"
      },
      "source": [
        "<a href=\"https://colab.research.google.com/github/CaldeCrack/CC3001-Algoritmos-y-Estructuras-de-Datos/blob/main/Ejercicios/Ejercicio_4_4.ipynb\" target=\"_parent\"><img src=\"https://colab.research.google.com/assets/colab-badge.svg\" alt=\"Open In Colab\"/></a>"
      ]
    },
    {
      "cell_type": "markdown",
      "metadata": {
        "id": "bIqY6YQluAwg"
      },
      "source": [
        "### Ejercicio 4.4\n",
        "\n",
        "Suponga que los campos ``info`` de los nodos externos de un árbol contienen solo números y escriba una función que pueda invocarse como ``formula.evaluar()``, que al ser ejecutada entregue el valor numérico  de la fórmula representada por el árbol. Modifique a continuación la definición de las clases ``Arbol``, ``Nodoi`` y ``Nodoe`` para que incluyan la nueva función ``evaluar()``. Note que tiene que implementar la función ``evaluar()`` en las tres clases."
      ]
    },
    {
      "cell_type": "code",
      "execution_count": null,
      "metadata": {
        "id": "q1Oq0MP0uAwg"
      },
      "outputs": [],
      "source": [
        "class Nodoi:\n",
        "    def __init__(self, izq, info, der):\n",
        "        self.izq=izq\n",
        "        self.info=info\n",
        "        self.der=der\n",
        "\n",
        "    def evaluar(self): # Evaluar con la operación dada por la info de Nodoi los números a la izquierda y derecha.\n",
        "        if self.info==\"+\": # Suma\n",
        "            return self.izq.evaluar()+self.der.evaluar()\n",
        "        elif self.info==\"-\": # Resta\n",
        "            return self.izq.evaluar()-self.der.evaluar()\n",
        "        elif self.info==\"*\": # Multiplicación\n",
        "            return self.izq.evaluar()*self.der.evaluar()\n",
        "        else: # División asumiendo que no hay más operadores posibles\n",
        "            return self.izq.evaluar()/self.der.evaluar()\n",
        "\n",
        "class Nodoe:\n",
        "    def __init__(self, info=\"\"):\n",
        "        self.info=info\n",
        "\n",
        "    def evaluar(self): # Entregar el número que ofrece info en Nodoe.\n",
        "        return float(self.info)\n",
        "\n",
        "class Arbol:\n",
        "    def __init__(self,raiz=Nodoe()):\n",
        "        self.raiz=raiz\n",
        "\n",
        "    def evaluar(self): # Evaluar el resultado\n",
        "        return self.raiz.evaluar()"
      ]
    },
    {
      "cell_type": "markdown",
      "metadata": {
        "id": "IOQWCBxIuAwh"
      },
      "source": [
        "Pruébela a continuación:"
      ]
    },
    {
      "cell_type": "code",
      "execution_count": null,
      "metadata": {
        "id": "Yl-CbXxxuAwh",
        "colab": {
          "base_uri": "https://localhost:8080/"
        },
        "outputId": "d052cf37-4c55-4776-e9f0-c585da9147cc"
      },
      "outputs": [
        {
          "output_type": "stream",
          "name": "stdout",
          "text": [
            "35.0\n"
          ]
        }
      ],
      "source": [
        "formula= Arbol(\n",
        "            Nodoi(\n",
        "                Nodoi(Nodoe(5),\"+\",Nodoe(2)),\n",
        "                \"*\",\n",
        "                Nodoi(\n",
        "                    Nodoe(8),\n",
        "                    \"-\",\n",
        "                    Nodoi(Nodoe(9),\"/\",Nodoe(3))\n",
        "                )\n",
        "            )\n",
        "        )\n",
        "\n",
        "print(formula.evaluar())"
      ]
    }
  ],
  "metadata": {
    "kernelspec": {
      "display_name": "Python 3",
      "language": "python",
      "name": "python3"
    },
    "language_info": {
      "codemirror_mode": {
        "name": "ipython",
        "version": 3
      },
      "file_extension": ".py",
      "mimetype": "text/x-python",
      "name": "python",
      "nbconvert_exporter": "python",
      "pygments_lexer": "ipython3",
      "version": "3.6.9"
    },
    "colab": {
      "provenance": [],
      "include_colab_link": true
    }
  },
  "nbformat": 4,
  "nbformat_minor": 0
}