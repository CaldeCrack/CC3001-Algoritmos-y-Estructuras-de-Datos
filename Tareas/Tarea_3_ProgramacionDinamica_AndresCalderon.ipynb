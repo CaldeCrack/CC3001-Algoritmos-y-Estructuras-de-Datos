{
  "cells": [
    {
      "cell_type": "markdown",
      "metadata": {
        "id": "view-in-github",
        "colab_type": "text"
      },
      "source": [
        "<a href=\"https://colab.research.google.com/github/CaldeCrack/CC3001-Algoritmos-y-Estructuras-de-Datos/blob/main/Tareas/Tarea_3_ProgramacionDinamica_AndresCalderon.ipynb\" target=\"_parent\"><img src=\"https://colab.research.google.com/assets/colab-badge.svg\" alt=\"Open In Colab\"/></a>"
      ]
    },
    {
      "cell_type": "markdown",
      "metadata": {
        "id": "jbGTgr_lRz25"
      },
      "source": [
        "# CC3001 2022-2 - Tarea 3: Programación Dinámica -- Andrés Calderón Guardia"
      ]
    },
    {
      "cell_type": "markdown",
      "metadata": {
        "id": "shGWx5JEm7G0"
      },
      "source": [
        "\n",
        "## Profesores: Nelson Baloian, Jérémy Barbay, Benjamín Bustos, Patricio Poblete"
      ]
    },
    {
      "cell_type": "markdown",
      "metadata": {
        "id": "Airlyusam2BK"
      },
      "source": [
        "Según las condiciones de su sección, pueden entregar un link a su tarea en `colab` o subir un archivo en el formato Jupyter NoteBook (`.ipynb`). Puede crear todas las funciones auxiliares que requiera para implementar las funciones solicitadas. Para programar las funciones debe usar los *array* de *numpy*. Los únicos métodos de los objetos de tipo *array* que puede utilizar en su solución son los siguientes:\n",
        "\n",
        "- El método *array* para crear un arreglo.\n",
        "- Los métodos *zeros*, *ones* y *full* para inicializar un *array*.\n",
        "\n",
        "No se puede utilizar ningún otro método disponible en módulos de Python.\n",
        "\n",
        "# El Problema\n",
        "\n",
        "Suponga que se tienen dos series de valores $A$ y $B$, representadas como arreglos, Por ejemplo:\n"
      ]
    },
    {
      "cell_type": "code",
      "execution_count": null,
      "metadata": {
        "id": "7YrvXfpMxGx0"
      },
      "outputs": [],
      "source": [
        "import math\n",
        "import numpy\n",
        "\n",
        "A = numpy.array([1, 1, 3, 5, 2])\n",
        "B = numpy.array([1, 2, 2, 5, 1])"
      ]
    },
    {
      "cell_type": "markdown",
      "metadata": {
        "id": "aScFMVsOSSo8"
      },
      "source": [
        "El problema a resolver es medir cuánto se parecen las series de valores. Si las series tienen el mismo largo, como en el ejemplo, una forma de medir su parecido es calculando la distancia Euclidiana entre ambas series:"
      ]
    },
    {
      "cell_type": "code",
      "execution_count": null,
      "metadata": {
        "id": "RLPWS0b-xGx1",
        "outputId": "808a8dc9-4c8d-4ef2-cdb0-d2c0ca5791df",
        "colab": {
          "base_uri": "https://localhost:8080/"
        }
      },
      "outputs": [
        {
          "output_type": "stream",
          "name": "stdout",
          "text": [
            "1.7320508075688772\n"
          ]
        }
      ],
      "source": [
        "def distanciaEuclidiana(serie1, serie2):\n",
        "    assert len(serie1) == len(serie2)\n",
        "    resultado = 0\n",
        "    for i in range(len(serie1)):\n",
        "        resultado += (serie1[i] - serie2[i]) ** 2\n",
        "    return math.sqrt(resultado)\n",
        "\n",
        "print(distanciaEuclidiana(A, B))"
      ]
    },
    {
      "cell_type": "markdown",
      "metadata": {
        "id": "e0MWEW0fxGx2"
      },
      "source": [
        "En el caso que el largo de las series de valores no sean iguales, no es posible calcular la distancia Euclidiana. Para resolver esto, se propone la siguiente fórmula recursiva para calcular la distancia entre las dos series de valores:\n",
        "\n",
        "- Sea una serie de valores $A$ de largo $i$ (denominada $A_i$) y una serie de valores $B$ de largo $j$ (denominada $B_j$).\n",
        "- Si las dos series de valores tienen largo cero, su distancia es 0.\n",
        "- Si una de las series de valores tiene largo 0, y la otra tiene largo estrictamente mayor que cero, su distancia es \"infinito\" (esto se puede representar con el valor *numpy.inf*)\n",
        "- Si no, la distancia entre las series $A_i$ y $B_j$ se define recursivamente como:\n",
        "\n",
        "$$ distancia(A_i, B_j) = costo(A_i, B_j) + \\min\\{ distancia(A_{i-1}, B_{j}),  distancia(A_{i}, B_{j-1}), distancia(A_{i-1}, B_{j-1})\\} $$\n",
        "\n",
        "La función $costo(A_i, B_j)$ devuelve un número que corresponde al cuadrado de la diferencia entre el $i$-ésimo valor de la serie $A$ y el $j$-ésimo valor de la serie $B$. *Nota*: Usted no debe editar la función de costo."
      ]
    },
    {
      "cell_type": "code",
      "execution_count": null,
      "metadata": {
        "id": "yJt3152-xGx3"
      },
      "outputs": [],
      "source": [
        "# costo: num num -> num\n",
        "def costo(x, y):\n",
        "    return (x - y) ** 2"
      ]
    },
    {
      "cell_type": "markdown",
      "metadata": {
        "id": "1wZ0yK7PxGx4"
      },
      "source": [
        "# Parte 1\n",
        "\n",
        "Implemente usando recursión el cálculo de la distancia entre dos series de valores."
      ]
    },
    {
      "cell_type": "code",
      "execution_count": null,
      "metadata": {
        "id": "X_B3t_3nxGx4",
        "colab": {
          "base_uri": "https://localhost:8080/"
        },
        "outputId": "47a9210b-57f8-4b46-9f5a-23b58a67a141"
      },
      "outputs": [
        {
          "output_type": "stream",
          "name": "stdout",
          "text": [
            "Su codigo paso todos los tests!\n"
          ]
        }
      ],
      "source": [
        "# Solución\n",
        "\n",
        "import numpy\n",
        "\n",
        "def distanciaRecursiva(A, B):\n",
        "    # Casos particulares\n",
        "    if len(A) + len(B) == 0: # Ambos arrays tienen largo 0\n",
        "      return 0\n",
        "    elif len(A) == 0 or len(B) == 0: # Un array tiene largo 0 y el otro mayor estricto a 0\n",
        "      return numpy.inf\n",
        "\n",
        "    # Acciones a ejecutar en cada iteración\n",
        "    if len(A) <= 1: # Reducir array A a largo 0\n",
        "      Aminus = []\n",
        "    else: # Reducir largo del array A en uno\n",
        "      Aminus = A[:-1]\n",
        "    if len(B) <= 1: # Reducir array B a largo 0\n",
        "      Bminus = []\n",
        "    else: # Reducir largo del array B en uno\n",
        "      Bminus = B[:-1]\n",
        "\n",
        "    # Cálculo de la distancia\n",
        "    return costo(A[-1], B[-1]) + min(distanciaRecursiva(Aminus, B), distanciaRecursiva(A, Bminus), distanciaRecursiva(Aminus, Bminus))\n",
        "\n",
        "# Algunos tests que le pueden servir para probar su codigo\n",
        "A = numpy.array([1, 1, 2, 3, 2, 0])\n",
        "B = numpy.array([0, 1, 1, 2, 3, 2, 1])\n",
        "assert distanciaRecursiva(A, B) == 2\n",
        "A = numpy.array([1, 2, 3, 3, 4, 1])\n",
        "B = numpy.array([1, 1, 3, 4, 3, 1])\n",
        "assert distanciaRecursiva(A, B) == 2\n",
        "A = numpy.array([3, 1, 2, 2, 1])\n",
        "B = numpy.array([2, 0, 0, 3, 3, 1, 0])\n",
        "assert distanciaRecursiva(A, B) == 6\n",
        "A = numpy.array([1, 4, 5, 10, 9, 3, 2, 6, 8, 4])\n",
        "B = numpy.array([1, 7, 3, 4, 1, 10, 5, 4, 7, 4])\n",
        "assert distanciaRecursiva(A, B) == 37\n",
        "print('Su codigo paso todos los tests!')"
      ]
    },
    {
      "cell_type": "markdown",
      "metadata": {
        "id": "IsAnyM9pxGx5"
      },
      "source": [
        "# Parte 2\n",
        "\n",
        "Implemente usando la técnica de memoización el cálculo de la distancia entre dos series de valores, de forma de evitar que se repitan llamados recursivos. Puede usar como base su código implementado para la Parte 1."
      ]
    },
    {
      "cell_type": "code",
      "execution_count": null,
      "metadata": {
        "id": "FIMKcfevxGx5",
        "colab": {
          "base_uri": "https://localhost:8080/"
        },
        "outputId": "d5fb80c1-f8b2-4a0c-f650-47c522b771c5"
      },
      "outputs": [
        {
          "output_type": "stream",
          "name": "stdout",
          "text": [
            "Su codigo paso todos los tests!\n"
          ]
        }
      ],
      "source": [
        "# Solución\n",
        "\n",
        "import numpy\n",
        "\n",
        "def distanciaMemoizacion(A, B):\n",
        "    d = numpy.zeros((len(A) + 1, len(B) + 1)) # Matriz con todas las comparaciones posibles\n",
        "\n",
        "    # Función auxiliar\n",
        "    def calcDistancia(A, B):\n",
        "      # Acciones a ejecutar en cada iteración\n",
        "      if len(A) <= 1: # Reducir array A a largo 0\n",
        "        Aminus = []\n",
        "      else: # Reducir largo del array A en uno\n",
        "        Aminus = A[:-1]\n",
        "      if len(B) <= 1: # Reducir array B a largo 0\n",
        "        Bminus = []\n",
        "      else: # Reducir largo del array B en uno\n",
        "        Bminus = B[:-1]\n",
        "\n",
        "      # Cálculo de la distancia\n",
        "      if len(A) + len(B) > 0 and d[len(A), len(B)] == 0: # Asignar valor a celda sin calcular\n",
        "        if len(A) == 0 or len(B) == 0: # Caso particular\n",
        "          d[len(A), len(B)] = numpy.inf\n",
        "        else: # Almacenar los distintos valores\n",
        "          d[len(A), len(B)] = costo(A[-1], B[-1]) + min(calcDistancia(Aminus, B), calcDistancia(A, Bminus), calcDistancia(Aminus, Bminus))\n",
        "      return d[len(A), len(B)]\n",
        "    return int(calcDistancia(A, B))\n",
        "\n",
        "# Algunos tests que le pueden servir para probar su codigo\n",
        "A = numpy.array([1, 1, 2, 3, 2, 0])\n",
        "B = numpy.array([0, 1, 1, 2, 3, 2, 1])\n",
        "assert distanciaMemoizacion(A, B) == 2\n",
        "A = numpy.array([1, 2, 3, 3, 4, 1])\n",
        "B = numpy.array([1, 1, 3, 4, 3, 1])\n",
        "assert distanciaMemoizacion(A, B) == 2\n",
        "A = numpy.array([3, 1, 2, 2, 1])\n",
        "B = numpy.array([2, 0, 0, 3, 3, 1, 0])\n",
        "assert distanciaMemoizacion(A, B) == 6\n",
        "A = numpy.array([1, 4, 5, 10, 9, 3, 2, 6, 8, 4])\n",
        "B = numpy.array([1, 7, 3, 4, 1, 10, 5, 4, 7, 4])\n",
        "assert distanciaMemoizacion(A, B) == 37\n",
        "print('Su codigo paso todos los tests!')"
      ]
    },
    {
      "cell_type": "markdown",
      "metadata": {
        "id": "P4J_29VOxGx5"
      },
      "source": [
        "# Parte 3\n",
        "\n",
        "Implemente utilizando tabulación (Programación Dinámica) el cálculo de la distancia entre dos series de valores. Para esto, defina una matriz $C$ en donde vaya guardando los resultados a los subproblemas. *Sugerencia*: Inicialice la primera fila y la primera columna de la matriz $C$, y luego piense en cómo ir rellenando el resto de la matriz con los valores previamente calculados."
      ]
    },
    {
      "cell_type": "code",
      "execution_count": null,
      "metadata": {
        "id": "2bVLKoskxGx5",
        "colab": {
          "base_uri": "https://localhost:8080/"
        },
        "outputId": "b46938e5-6e79-44e4-a6ec-7a0545fa2e03"
      },
      "outputs": [
        {
          "output_type": "stream",
          "name": "stdout",
          "text": [
            "Su codigo paso todos los tests!\n"
          ]
        }
      ],
      "source": [
        "# Solución\n",
        "\n",
        "import numpy\n",
        "\n",
        "def distanciaProgramacionDinamica(A, B):\n",
        "    C = numpy.zeros((len(A) + 1, len(B) + 1)) # Matriz con todas las posibles comparaciones\n",
        "\n",
        "    # Inicialización de la primera fila y columna de la matriz C\n",
        "    for i in range(1, len(A) + 1): # Primera fila de C\n",
        "      C[i, 0] = numpy.inf\n",
        "    for j in range(1, len(B) + 1): # Primera columna de C\n",
        "      C[0, j] = numpy.inf\n",
        "\n",
        "    # Tabulación de la matriz\n",
        "    for i in range(1, len(A) + 1): # Completación de los valores por columna\n",
        "      for j in range(1, len(B) + 1): # Completación de los valores por fila\n",
        "        C[i, j] = costo(A[i - 1], B[j - 1]) + min(C[i - 1, j], C[i, j - 1], C[i - 1, j - 1]) # Asignación de los valores\n",
        "    return int(C[len(A), len(B)])\n",
        "\n",
        "# Algunos tests que le pueden servir para probar su codigo\n",
        "A = numpy.array([1, 1, 2, 3, 2, 0])\n",
        "B = numpy.array([0, 1, 1, 2, 3, 2, 1])\n",
        "assert distanciaProgramacionDinamica(A, B) == 2\n",
        "A = numpy.array([1, 2, 3, 3, 4, 1])\n",
        "B = numpy.array([1, 1, 3, 4, 3, 1])\n",
        "assert distanciaProgramacionDinamica(A, B) == 2\n",
        "A = numpy.array([3, 1, 2, 2, 1])\n",
        "B = numpy.array([2, 0, 0, 3, 3, 1, 0])\n",
        "assert distanciaProgramacionDinamica(A, B) == 6\n",
        "A = numpy.array([1,4,5,10,9,3,2,6,8,4])\n",
        "B = numpy.array([1,7,3,4,1,10,5,4,7,4])\n",
        "assert distanciaProgramacionDinamica(A, B) == 37\n",
        "A = numpy.array([1,4,5,10,9,3,2,6,8,4,1,4,5,10,9,3,2,6,8,4])\n",
        "B = numpy.array([1,7,3,4,1,10,5,4,7,4,1,7,3,4,1,10,5,4,7,4])\n",
        "assert distanciaProgramacionDinamica(A, B) == 74\n",
        "print('Su codigo paso todos los tests!')"
      ]
    },
    {
      "cell_type": "markdown",
      "metadata": {
        "id": "92VRATL8xGx6"
      },
      "source": [
        "# Parte 4\n",
        "\n",
        "Pruebe cuánto tiempo demora cada una de las funciones implementados en calcular la distancia para series de valores. Para esto, el siguiente código mide el tiempo que demoran las tres funciones con series de valores $A$ y $B$ del mismo largo, con largo $n$ variando desde 1 hasta 10. Concluya sobre la eficiencia de las funciones implementadas a partir de los resultados obtenidos."
      ]
    },
    {
      "cell_type": "code",
      "execution_count": null,
      "metadata": {
        "id": "CjbvOJcRxGx6",
        "colab": {
          "base_uri": "https://localhost:8080/"
        },
        "outputId": "a4a6ebf6-657a-4488-c3b1-9e04e36d04b8"
      },
      "outputs": [
        {
          "output_type": "stream",
          "name": "stdout",
          "text": [
            "[3] [4]\n",
            "2.84 µs ± 55.6 ns per loop (mean ± std. dev. of 7 runs, 100000 loops each)\n",
            "11.8 µs ± 153 ns per loop (mean ± std. dev. of 7 runs, 100000 loops each)\n",
            "7.74 µs ± 140 ns per loop (mean ± std. dev. of 7 runs, 100000 loops each)\n",
            "[9 4] [9 6]\n",
            "22.5 µs ± 320 ns per loop (mean ± std. dev. of 7 runs, 10000 loops each)\n",
            "55.3 µs ± 2.53 µs per loop (mean ± std. dev. of 7 runs, 10000 loops each)\n",
            "22 µs ± 514 ns per loop (mean ± std. dev. of 7 runs, 10000 loops each)\n",
            "[7 3 9] [5 6 5]\n",
            "120 µs ± 939 ns per loop (mean ± std. dev. of 7 runs, 10000 loops each)\n",
            "85.3 µs ± 390 ns per loop (mean ± std. dev. of 7 runs, 10000 loops each)\n",
            "45.5 µs ± 1.29 µs per loop (mean ± std. dev. of 7 runs, 10000 loops each)\n",
            "[7 5 3 8] [7 2 7 9]\n",
            "631 µs ± 5.98 µs per loop (mean ± std. dev. of 7 runs, 1000 loops each)\n",
            "166 µs ± 2.81 µs per loop (mean ± std. dev. of 7 runs, 10000 loops each)\n",
            "77.8 µs ± 2.84 µs per loop (mean ± std. dev. of 7 runs, 10000 loops each)\n",
            "[7 7 1 2 1] [8 9 4 3 3]\n",
            "3.4 ms ± 94.2 µs per loop (mean ± std. dev. of 7 runs, 100 loops each)\n",
            "237 µs ± 8.7 µs per loop (mean ± std. dev. of 7 runs, 1000 loops each)\n",
            "116 µs ± 2.15 µs per loop (mean ± std. dev. of 7 runs, 10000 loops each)\n",
            "[9 6 5 7 2 3] [4 2 8 4 4 5]\n",
            "18.2 ms ± 93.8 µs per loop (mean ± std. dev. of 7 runs, 100 loops each)\n",
            "333 µs ± 6 µs per loop (mean ± std. dev. of 7 runs, 1000 loops each)\n",
            "164 µs ± 1.82 µs per loop (mean ± std. dev. of 7 runs, 10000 loops each)\n",
            "[5 4 3 7 5 2 6] [3 3 7 5 3 1 2]\n",
            "98.7 ms ± 1.32 ms per loop (mean ± std. dev. of 7 runs, 10 loops each)\n",
            "452 µs ± 9.32 µs per loop (mean ± std. dev. of 7 runs, 1000 loops each)\n",
            "220 µs ± 5.12 µs per loop (mean ± std. dev. of 7 runs, 1000 loops each)\n",
            "[4 3 5 8 6 3 8 8] [2 4 9 7 8 9 8 3]\n",
            "544 ms ± 8.45 ms per loop (mean ± std. dev. of 7 runs, 1 loop each)\n",
            "587 µs ± 11 µs per loop (mean ± std. dev. of 7 runs, 1000 loops each)\n",
            "285 µs ± 5.72 µs per loop (mean ± std. dev. of 7 runs, 1000 loops each)\n",
            "[8 1 8 5 4 4 2 3 5] [4 9 5 6 6 1 2 7 8]\n",
            "3.01 s ± 12.2 ms per loop (mean ± std. dev. of 7 runs, 1 loop each)\n",
            "753 µs ± 11.4 µs per loop (mean ± std. dev. of 7 runs, 1000 loops each)\n",
            "360 µs ± 6.78 µs per loop (mean ± std. dev. of 7 runs, 1000 loops each)\n",
            "[4 3 2 9 9 3 8 3 2 9] [2 9 7 2 7 4 8 8 5 1]\n",
            "16.6 s ± 36.8 ms per loop (mean ± std. dev. of 7 runs, 1 loop each)\n",
            "917 µs ± 10.7 µs per loop (mean ± std. dev. of 7 runs, 1000 loops each)\n",
            "448 µs ± 7.09 µs per loop (mean ± std. dev. of 7 runs, 1000 loops each)\n"
          ]
        }
      ],
      "source": [
        "for n in range(1,11):\n",
        "    A = numpy.random.randint(1,10,n)\n",
        "    B = numpy.random.randint(1,10,n)\n",
        "    print(A, B)\n",
        "    %timeit distanciaRecursiva(A,B)\n",
        "    %timeit distanciaMemoizacion(A,B)\n",
        "    %timeit distanciaProgramacionDinamica(A,B)"
      ]
    },
    {
      "cell_type": "markdown",
      "metadata": {
        "id": "KXcyKvl6xGx6"
      },
      "source": [
        "# Conclusión sobre los resultados experimentales:\n",
        "\n",
        "El primer algoritmo solo resulta ser más eficiente por sobre los otros 2 para series de datos pequeñas, en particular hasta $n$ igual a 2 (aunque el tercer algoritmo supera a este para $n$ igual a 2 pero el segundo es más lento respecto a este), mientras que a medida que crece el valor de $n$ lo que se demora este algoritmo crece mucho más que los otros dos. Para el segundo algoritmo en su generalidad sus tiempos suelen estar entre ambos pero mucho más cerca del tercer algoritmo que resulta ser el más eficiente de los tres para valores grandes de $n$, siendo este último aproximadamente el doble de rápido que el anterior."
      ]
    }
  ],
  "metadata": {
    "colab": {
      "provenance": [],
      "include_colab_link": true
    },
    "kernelspec": {
      "display_name": "Python 3",
      "language": "python",
      "name": "python3"
    },
    "language_info": {
      "codemirror_mode": {
        "name": "ipython",
        "version": 3
      },
      "file_extension": ".py",
      "mimetype": "text/x-python",
      "name": "python",
      "nbconvert_exporter": "python",
      "pygments_lexer": "ipython3",
      "version": "3.8.8"
    }
  },
  "nbformat": 4,
  "nbformat_minor": 0
}