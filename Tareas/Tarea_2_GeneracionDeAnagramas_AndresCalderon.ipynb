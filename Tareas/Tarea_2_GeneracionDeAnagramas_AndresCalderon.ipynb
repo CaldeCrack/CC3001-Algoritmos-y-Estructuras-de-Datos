{
  "nbformat": 4,
  "nbformat_minor": 0,
  "metadata": {
    "kernelspec": {
      "display_name": "Python 3",
      "language": "python",
      "name": "python3"
    },
    "language_info": {
      "codemirror_mode": {
        "name": "ipython",
        "version": 3
      },
      "file_extension": ".py",
      "mimetype": "text/x-python",
      "name": "python",
      "nbconvert_exporter": "python",
      "pygments_lexer": "ipython3",
      "version": "3.7.1"
    },
    "colab": {
      "provenance": [],
      "include_colab_link": true
    }
  },
  "cells": [
    {
      "cell_type": "markdown",
      "metadata": {
        "id": "view-in-github",
        "colab_type": "text"
      },
      "source": [
        "<a href=\"https://colab.research.google.com/github/CaldeCrack/CC3001-Algoritmos-y-Estructuras-de-Datos/blob/main/Tareas/Tarea_2_GeneracionDeAnagramas_AndresCalderon.ipynb\" target=\"_parent\"><img src=\"https://colab.research.google.com/assets/colab-badge.svg\" alt=\"Open In Colab\"/></a>"
      ]
    },
    {
      "cell_type": "markdown",
      "metadata": {
        "id": "vqpyykLhbGmC"
      },
      "source": [
        "# CC3001 Primavera 2022 Tarea 2 Andrés Calderón Guardia\n",
        "# Generación de anagramas\n",
        "## Profesores\n",
        "Sección 1 Benjamin Bustos • Sección 2 Jérémy Barbay • Sección 3 Patricio Poblete / Nelson Baloian"
      ]
    },
    {
      "cell_type": "markdown",
      "metadata": {
        "id": "0m-PHqkybGmD"
      },
      "source": [
        "El objetivo de esta tarea es escribir y probar una función que genere todos los posibles anagramas de un string dado. Para simplificar, solo se le pedirá que su programa funcione con strings en que todas sus letras son distintas, en cuyo caso los anagramas son exactamente las permutaciones de las letras del string de entrada.\n",
        "\n",
        "En los ejercicios aparece un algoritmo para generar todas las permutaciones de los elementos de un arreglo (o de una lista). Para hacer uso de ese algoritmo, comenzaremos por separar las letras del string usando `list()` y al final para volver a formar un string usaremos `join()`."
      ]
    },
    {
      "cell_type": "code",
      "source": [
        "# Ejemplos de uso de list() y join()\n",
        "a=list('hola')\n",
        "print(a)\n",
        "s=''.join(a)\n",
        "print(s)"
      ],
      "metadata": {
        "colab": {
          "base_uri": "https://localhost:8080/"
        },
        "id": "Mx5th6FABON6",
        "outputId": "e25db3c5-3218-434a-d86b-88346fc2e854"
      },
      "execution_count": null,
      "outputs": [
        {
          "output_type": "stream",
          "name": "stdout",
          "text": [
            "['h', 'o', 'l', 'a']\n",
            "hola\n"
          ]
        }
      ]
    },
    {
      "cell_type": "markdown",
      "source": [
        "El algoritmo para generar las permutaciones es:\n",
        "\n",
        "```\n",
        "def permutaciones(a,i):\n",
        "```\n",
        "\n",
        "el cual genera todas las permutaciones de los elementos de la lista ``a`` desde la posición ``i`` hacia adelante, hasta el final de la lista. Para hacer esto, hace lo siguiente:\n",
        "\n",
        "* Si ``i`` es igual a ``len(a)`` implica que ya se está pidiendo las permutaciones de una lista vacía, y en ese momento se imprime todo el contenido de la lista ``a``;\n",
        "* De lo contrario, para cada uno de los elementos ``a[j]``  con  ``j`` desde ``i`` hasta el final de la lista, se hace lo siguiente:\n",
        "  * se intercambia el valor del ``a[j]`` con ``a[i]``,\n",
        "  * se llama recursivamente a la función permutaciones con el índice del primer elemento incrementado: ``permutaciones(a,i+1)``, y\n",
        "  * se vuelven a intercambiar ``a[j]`` con ``a[i]`` para dejar todo igual que al principio.\n",
        "\n",
        "El proceso se inicia llamando a ``permutaciones``con ``i=0``.\n",
        "\n",
        "El siguiente código implementa este proceso. Modifíquelo y complete lo que falta para que haga lo que se pide:"
      ],
      "metadata": {
        "id": "NOba1wo0A_CP"
      }
    },
    {
      "cell_type": "code",
      "metadata": {
        "id": "wxdoFaDHbGmE"
      },
      "source": [
        "def genera_anagramas(s):\n",
        "  global np # variable para contar el número de permutaciones generadas\n",
        "  a = list(s)\n",
        "  np = 0\n",
        "  permutaciones(a,0)\n",
        "  print(\"Se generaron\", np, \"anagramas\")\n",
        "\n",
        "def permutaciones(a,i): # genera todas las permutaciones de a[i:]\n",
        "  global np\n",
        "  if i == len(a):\n",
        "    np += 1\n",
        "    print(''.join(a))\n",
        "  for j in range(i, len(a)):\n",
        "    (a[j], a[i]) = (a[i], a[j])\n",
        "    permutaciones(a, i+1)\n",
        "    (a[j], a[i]) = (a[i], a[j])"
      ],
      "execution_count": null,
      "outputs": []
    },
    {
      "cell_type": "markdown",
      "source": [
        "A continuación ejecute las siguientes pruebas y verifique que se genere la salida que se muestra en cada caso:"
      ],
      "metadata": {
        "id": "bM7Lj5rCrFh4"
      }
    },
    {
      "cell_type": "code",
      "source": [
        "genera_anagramas(\"ab\")"
      ],
      "metadata": {
        "colab": {
          "base_uri": "https://localhost:8080/"
        },
        "id": "4cmxN7j5ANOR",
        "outputId": "26be856a-95fd-4ecc-9b15-f67e1c5967e4"
      },
      "execution_count": null,
      "outputs": [
        {
          "output_type": "stream",
          "name": "stdout",
          "text": [
            "ab\n",
            "ba\n",
            "Se generaron 2 anagramas\n"
          ]
        }
      ]
    },
    {
      "cell_type": "code",
      "source": [
        "genera_anagramas(\"hola\")"
      ],
      "metadata": {
        "colab": {
          "base_uri": "https://localhost:8080/"
        },
        "id": "HciU6zw--zzT",
        "outputId": "aa81d530-725e-4c36-9871-2ebed7b14098"
      },
      "execution_count": null,
      "outputs": [
        {
          "output_type": "stream",
          "name": "stdout",
          "text": [
            "hola\n",
            "hoal\n",
            "hloa\n",
            "hlao\n",
            "halo\n",
            "haol\n",
            "ohla\n",
            "ohal\n",
            "olha\n",
            "olah\n",
            "oalh\n",
            "oahl\n",
            "loha\n",
            "loah\n",
            "lhoa\n",
            "lhao\n",
            "laho\n",
            "laoh\n",
            "aolh\n",
            "aohl\n",
            "aloh\n",
            "alho\n",
            "ahlo\n",
            "ahol\n",
            "Se generaron 24 anagramas\n"
          ]
        }
      ]
    },
    {
      "cell_type": "code",
      "source": [
        "genera_anagramas(\"lepac\")"
      ],
      "metadata": {
        "colab": {
          "base_uri": "https://localhost:8080/"
        },
        "id": "XCGxF4m7-9Uu",
        "outputId": "c69692e7-6f93-4563-883e-efcf53ec18d8"
      },
      "execution_count": null,
      "outputs": [
        {
          "output_type": "stream",
          "name": "stdout",
          "text": [
            "lepac\n",
            "lepca\n",
            "leapc\n",
            "leacp\n",
            "lecap\n",
            "lecpa\n",
            "lpeac\n",
            "lpeca\n",
            "lpaec\n",
            "lpace\n",
            "lpcae\n",
            "lpcea\n",
            "lapec\n",
            "lapce\n",
            "laepc\n",
            "laecp\n",
            "lacep\n",
            "lacpe\n",
            "lcpae\n",
            "lcpea\n",
            "lcape\n",
            "lcaep\n",
            "lceap\n",
            "lcepa\n",
            "elpac\n",
            "elpca\n",
            "elapc\n",
            "elacp\n",
            "elcap\n",
            "elcpa\n",
            "eplac\n",
            "eplca\n",
            "epalc\n",
            "epacl\n",
            "epcal\n",
            "epcla\n",
            "eaplc\n",
            "eapcl\n",
            "ealpc\n",
            "ealcp\n",
            "eaclp\n",
            "eacpl\n",
            "ecpal\n",
            "ecpla\n",
            "ecapl\n",
            "ecalp\n",
            "eclap\n",
            "eclpa\n",
            "pelac\n",
            "pelca\n",
            "pealc\n",
            "peacl\n",
            "pecal\n",
            "pecla\n",
            "pleac\n",
            "pleca\n",
            "plaec\n",
            "place\n",
            "plcae\n",
            "plcea\n",
            "palec\n",
            "palce\n",
            "paelc\n",
            "paecl\n",
            "pacel\n",
            "pacle\n",
            "pclae\n",
            "pclea\n",
            "pcale\n",
            "pcael\n",
            "pceal\n",
            "pcela\n",
            "aeplc\n",
            "aepcl\n",
            "aelpc\n",
            "aelcp\n",
            "aeclp\n",
            "aecpl\n",
            "apelc\n",
            "apecl\n",
            "aplec\n",
            "aplce\n",
            "apcle\n",
            "apcel\n",
            "alpec\n",
            "alpce\n",
            "alepc\n",
            "alecp\n",
            "alcep\n",
            "alcpe\n",
            "acple\n",
            "acpel\n",
            "aclpe\n",
            "aclep\n",
            "acelp\n",
            "acepl\n",
            "cepal\n",
            "cepla\n",
            "ceapl\n",
            "cealp\n",
            "celap\n",
            "celpa\n",
            "cpeal\n",
            "cpela\n",
            "cpael\n",
            "cpale\n",
            "cplae\n",
            "cplea\n",
            "capel\n",
            "caple\n",
            "caepl\n",
            "caelp\n",
            "calep\n",
            "calpe\n",
            "clpae\n",
            "clpea\n",
            "clape\n",
            "claep\n",
            "cleap\n",
            "clepa\n",
            "Se generaron 120 anagramas\n"
          ]
        }
      ]
    }
  ]
}