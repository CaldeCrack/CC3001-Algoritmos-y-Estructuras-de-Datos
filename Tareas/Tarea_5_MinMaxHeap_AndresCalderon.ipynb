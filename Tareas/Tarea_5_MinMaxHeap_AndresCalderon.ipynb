{
  "cells": [
    {
      "cell_type": "markdown",
      "metadata": {
        "id": "view-in-github",
        "colab_type": "text"
      },
      "source": [
        "<a href=\"https://colab.research.google.com/github/CaldeCrack/CC3001-Algoritmos-y-Estructuras-de-Datos/blob/main/Tareas/Tarea_5_MinMaxHeap_AndresCalderon.ipynb\" target=\"_parent\"><img src=\"https://colab.research.google.com/assets/colab-badge.svg\" alt=\"Open In Colab\"/></a>"
      ]
    },
    {
      "cell_type": "markdown",
      "metadata": {
        "id": "jbGTgr_lRz25"
      },
      "source": [
        "# CC3001 2022-2 - Tarea 5: `Min_Max_Heap` -- Andrés Calderón Guardia"
      ]
    },
    {
      "cell_type": "markdown",
      "metadata": {
        "id": "shGWx5JEm7G0"
      },
      "source": [
        "\n",
        "## Profesores: Nelson Baloian, Jérémy Barbay, Benjamín Bustos, Patricio Poblete"
      ]
    },
    {
      "cell_type": "markdown",
      "metadata": {
        "id": "Airlyusam2BK"
      },
      "source": [
        "Según las condiciones de su sección, pueden entregar un link a su tarea en `colab` o subir un archivo en el formato Jupyter NoteBook (`.ipynb`). Puede crear todas las funciones auxiliares que requiera para implementar las funciones solicitadas. Para programar las funciones debe usar los *array* de *numpy*. Los únicos métodos de los objetos de tipo *array* que puede utilizar en su solución son los siguientes:\n",
        "\n",
        "- El método *array* para crear un arreglo.\n",
        "- Los métodos *zeros*, *ones* y *full* para inicializar un *array*.\n",
        "\n",
        "No se puede utilizar ningún otro método disponible en módulos de Python.\n"
      ]
    },
    {
      "cell_type": "markdown",
      "source": [
        "# El Problema\n"
      ],
      "metadata": {
        "id": "rAOWQ-cDkmQ-"
      }
    },
    {
      "cell_type": "markdown",
      "source": [
        "Se trata de extender una implementación de un `Max_Heap` (tal como, por ejemplo, la de los [apuntes](https://colab.research.google.com/github/ivansipiran/AED-Apuntes/blob/main/05_Pilas_Colas_y_Colas_de_Prioridad.ipynb#scrollTo=Implementaci_n_usando_un_Heap), o la implementación [abajo](https://colab.research.google.com/drive/1cy50yuJZ6leVGdJg2iXNZV6SHtYTXisu#scrollTo=Implementaci_n_de_un_Max_Heap_que_dibujo_los_estados_intermedios) la cual permite dibujar el árbol correspondiendo al heap) en un `Min_Max_Heap` (tal como está definido, por ejemplo, en [Wikipedia](https://en.wikipedia.org/wiki/Min-max_heap)), que soporta tanto `extract_min` como `extract_max` en tiempo logarítmico en la cantidad de elementos en el `Min_Max_Heap`."
      ],
      "metadata": {
        "id": "BtlRU93Xk1Dn"
      }
    },
    {
      "cell_type": "markdown",
      "source": [
        "## Descripción formal de un `Min_Max_Heap`"
      ],
      "metadata": {
        "id": "9F-p1srtyKH0"
      }
    },
    {
      "cell_type": "markdown",
      "source": [
        "\n",
        "Un `Min_Max_Heap` de $n$ elementos es muy similar a un `Min_Heap` o un `Max_Heap` en el sentido que es un árbol binario balanceado perfecto representado en las $n$ primeras posiciones de un arreglo. La diferencia con un `Min_Heap` o un `Max_Heap` es que para los nodos cuya distancia (largo del camino) a la raíz es par (e.g., $0,2,4,\\ldots$) aplican las reglas de un `Min_Heap` (i.e., tiene valor menor o igual a los de todos sus descendientes), mientras que para los nodos cuya distancia a la raíz es impar (e.g., ($1,3,5,\\ldots$) aplican las reglas de un `Max_Heap` (i.e., tiene valor mayor o igual a los de todos sus descendientes).\n"
      ],
      "metadata": {
        "id": "XDqHJP4OyreC"
      }
    },
    {
      "cell_type": "markdown",
      "source": [
        "\n",
        "Para insertar un elemento en un `Min_Max_Heap`, se inserta al final del arreglo y se compara con el valor de su nodo \"*padre*\":\n",
        "\n",
        "- si es inferior al valor de su nodo padre, entonces es inferior a todos los valores de nodos `max` (i.e., a distancia impar de la raíz), y se deben considerar únicamente los nodos ancestros de tipo `min` (i.e., a distancia par de la raíz) para *corregir* el `Min_Max_Heap`, usando el proceso de un `Min_Heap`; por el contrario,\n",
        "\n",
        "- si es superior al valor de su nodo padre, entonces es superior a todos los valores de nodos `min` (i.e., a distancia par de la raíz), y se deben considerar únicamente los nodos ancestros de tipo `max` (i.e., a distancia impar de la raíz) para *corregir* el `Min_Max_Heap`, usando el proceso de un `Max_Heap`.\n"
      ],
      "metadata": {
        "id": "icFOZAL3ywmN"
      }
    },
    {
      "cell_type": "markdown",
      "source": [
        "\n",
        "Para extraer el mínimo de un `Min_Max_Heap`, se saca la raíz, se reemplaza por el último elemento del arreglo, y se procede a *corregir* el `Min_Max_Heap` de manera simétrica al proceso de la inserción.  Para extraer el máximo de un `Min_Max_Heap`, se saca el hijo mayor de la raíz, se reemplaza dicho valor por el último elemento del arreglo, y se procede a *corregir* el `Min_Max_Heap` de manera simétrica al proceso de la inserción."
      ],
      "metadata": {
        "id": "H0a8BVPfy4yS"
      }
    },
    {
      "cell_type": "markdown",
      "source": [
        "\n",
        "Para corregir un `Min_Max_Heap` tomaremos el caso en que el nodo actual está en un nivel min (par), el caso para un nodo en nivel max es análogo.  Luego de reemplazar la raíz se debe comparar el nodo que se insertó con sus hijo y los hijos de sus hijos y tomar el mínimo entre estos siete elementos, luego, tenemos tres casos:\n",
        "1. El mínimo es el nodo actual, en ese caso el heap ya está balanceado y no hay que realizar más cambios.\n",
        "1. El mínimo es un hijo del nodo actual, en este caso se debe hacer swap entre el nodo y el hijo, y ahí termina la corrección.\n",
        "1. El mínimo es un nieto del nodo actual, en este caso se debe hacer swap entre el nodo y el nieto, y corregir recursivamente desde el nieto.\n"
      ],
      "metadata": {
        "id": "xOWLdpfYy7_N"
      }
    },
    {
      "cell_type": "markdown",
      "metadata": {
        "id": "1wZ0yK7PxGx4"
      },
      "source": [
        "# Parte 1: `Min_Max_Heap_es_valido`\n"
      ]
    },
    {
      "cell_type": "markdown",
      "source": [
        "Antes de comenzar a programar, estudie bien la definición de un `Min_Max_Heap` y luego defina un metodo `Min_Max_Heap_es_valido` que, dado un arreglo de valores, retorna `True` si corresponde a un `Min_Max_Heap` y `False` sino."
      ],
      "metadata": {
        "id": "8c4KSywLoRK2"
      }
    },
    {
      "cell_type": "code",
      "source": [
        "import numpy as np\n",
        "\n",
        "def Min_Max_Heap_es_valido(arreglo):\n",
        "    # Condiciones iniciales\n",
        "    if len(arreglo) > 0: # Arreglo contiene al menos un elemento para poder chequear la primera condición\n",
        "        if np.min(arreglo) != arreglo[0]: return False # Primera condición para un Min-Max Heap\n",
        "    if len(arreglo) > 1: # Arreglo contiene al menos dos elementos para poder chequear por lo menos una de las dos comprobaciones para la segunda condición\n",
        "        if len(arreglo) > 2: # Arreglo contiene al menos tres elementos para poder chequear la segunda condición\n",
        "            if np.max(arreglo) != arreglo[1] and np.max(arreglo) != arreglo[2]: return False # Segunda condición para un Min-Max Heap\n",
        "        else: # El arreglo tenía solo dos elementos\n",
        "            if np.max(arreglo) != arreglo[1]: return False # Segunda condición para un Min-Max Heap\n",
        "    # Comprobar el resto del Heap\n",
        "    large = len(arreglo)\n",
        "    for i in range(large): # Comprobar que cada nodo esté correcto\n",
        "        index = large-1-i # Partir por el final del arreglo\n",
        "        if index == 0: return True # Ya se comprobó el Heap completo\n",
        "        if level(index+1)%2 == 0: # Caso nivel par\n",
        "            if level(index+1) > 1: # Si se cumple que existe el abuelo compararlo\n",
        "                if arreglo[parent(parent(index))] > arreglo[index]: return False # Nodo abuelo debe ser menor\n",
        "            if arreglo[parent(index)] < arreglo[index]: return False # Nodo padre debe ser mayor\n",
        "        else: # Caso nivel impar\n",
        "            if level(index+1) > 1: # Si se cumple que existe el abuelo compararlo\n",
        "                if arreglo[parent(parent(index))] < arreglo[index]: return False # Nodo abuelo debe ser menor\n",
        "            if arreglo[parent(index)] > arreglo[index]: return False # Nodo padre debe ser mayor\n",
        "\n",
        "# Función auxiliar para hallar el índice del nodo padre\n",
        "def parent(i):\n",
        "    if i == 0: return 0\n",
        "    return (i-1)//2\n",
        "\n",
        "# Función auxiliar para hallar el nivel de un nodo\n",
        "def level(i): return int(np.log2(i))\n",
        "\n",
        "a = np.array([1,2,3])\n",
        "assert Min_Max_Heap_es_valido(a) == True\n",
        "\n",
        "a = np.array([1,2,3,4,5,6,7])\n",
        "assert Min_Max_Heap_es_valido(a) == False\n",
        "\n",
        "a = np.array([1,6,7,4,5,2,3])\n",
        "assert Min_Max_Heap_es_valido(a) == True\n",
        "\n",
        "a = np.array([8,71,41,31,10,11,16,46,51,31,21,13])\n",
        "assert Min_Max_Heap_es_valido(a) == True"
      ],
      "metadata": {
        "id": "nBPkGS5Xov7A"
      },
      "execution_count": null,
      "outputs": []
    },
    {
      "cell_type": "markdown",
      "metadata": {
        "id": "IsAnyM9pxGx5"
      },
      "source": [
        "# Parte 2: `Min_Max_Heap`\n",
        "\n"
      ]
    },
    {
      "cell_type": "markdown",
      "source": [
        "A continuación implemente su solución como una clase `Min_Max_Heap` con las operaciones `insert`, `extract_max`, `extract_min`. Ejecute las pruebas señaladas más abajo y agregue otras pruebas inventadas por usted."
      ],
      "metadata": {
        "id": "Dwli46sqFRV4"
      }
    },
    {
      "cell_type": "code",
      "source": [
        "import numpy as np\n",
        "\n",
        "# ---------------------- Funciones auxiliares ----------------------\n",
        "def trepar_max(a,i):# El elemento a[i] trepa hasta su nivel de prioridad como un Max Heap en un Min-Max Heap\n",
        "    while i >= 3 and a[i] > a[parent(parent(i))]: # comparar con nodo abuelo\n",
        "        (a[i],a[parent(parent(i))]) = (a[parent(parent(i))],a[i]) # intercambiamos con el abuelo\n",
        "        i = parent(parent(i)) # subimos al lugar del abuelo\n",
        "\n",
        "def trepar_min(a,i): # El elemento a[i] trepa hasta su nivel de prioridad como un Min Heap en un Min-Max Heap\n",
        "    while i >= 3 and a[i] < a[parent(parent(i))]: # comparar con nodo abuelo\n",
        "        (a[i],a[parent(parent(i))]) = (a[parent(parent(i))],a[i]) # intercambiamos con el abuelo\n",
        "        i = parent(parent(i)) # subimos al lugar del abuelo\n",
        "\n",
        "def hundir_min(a,i,n): # El elemento a[i] se hunde hasta su nivel de prioridad\n",
        "    while 2*i+1 < n: # Mientras tenga al menos 1 hijo\n",
        "        j = 2*i+1 # El hijo izquierdo\n",
        "        k = j+1 # El hijo derecho\n",
        "        # Nietos\n",
        "        j1 = j*2+1\n",
        "        j2 = j1+1\n",
        "        k1 = k*2+1\n",
        "        k2 = k1+1\n",
        "        # Si algunos hijos/nietos no existen reemplazar su valor con el del primer hijo (único existente bajo la condición del while)\n",
        "        if k >= n: k = j\n",
        "        if j1 >= n: j1 = j\n",
        "        if j2 >= n: j2 = j\n",
        "        if k1 >= n: k1 = j\n",
        "        if k2 >= n: k2 = j\n",
        "        change = np.min([a[i], a[j], a[k], a[j1], a[j2], a[k1], a[k2]]) # Sacar el mínimo de entre los siete posibles nodos\n",
        "        if change == a[i]: break # Caso el nodo cambiado ya es el mínimo\n",
        "        (a[i],a[list(a[1:]).index(change)+1]) = (a[list(a).index(change)],a[i]) # Intercambiar valores\n",
        "        if j1 < n: # Caso recursivo\n",
        "            if change == a[j1]: i = j1\n",
        "            elif change == a[j2]: i = j2\n",
        "            elif change == a[k1]: i = k1\n",
        "            elif change == a[k2]: i = k2\n",
        "        break\n",
        "\n",
        "def hundir_max(a,i,n): # El elemento a[i] se hunde hasta su nivel de prioridad\n",
        "    while 2*i+1 < n: # Mientras tenga al menos 1 hijo\n",
        "        j = 2*i+1 # El hijo izquierdo\n",
        "        k = j+1 # El hijo derecho\n",
        "        # Nietos\n",
        "        j1 = j*2+1\n",
        "        j2 = j1+1\n",
        "        k1 = k*2+1\n",
        "        k2 = k1+1\n",
        "        # Si algunos hijos/nietos no existen reemplazar su valor con el del primer hijo (único existente bajo la condición del while)\n",
        "        if k >= n: k = j\n",
        "        if j1 >= n: j1 = j\n",
        "        if j2 >= n: j2 = j\n",
        "        if k1 >= n: k1 = j\n",
        "        if k2 >= n: k2 = j\n",
        "        change = np.max([a[i], a[j], a[k], a[j1], a[j2], a[k1], a[k2]]) # Sacar el máximo de entre los siete posibles nodos\n",
        "        if change == a[i]: break # Caso el nodo cambiado ya es el máximo\n",
        "        (a[i],a[list(a[i+1:]).index(change)+i+1]) = (a[list(a).index(change)],a[i]) # Intercambiar valores\n",
        "        if j1 < n: # Caso recursivo\n",
        "            if change == a[j1]: i = j1\n",
        "            elif change == a[j2]: i = j2\n",
        "            elif change == a[k1]: i = k1\n",
        "            elif change == a[k2]: i = k2\n",
        "        break\n",
        "\n",
        "class Min_Max_Heap:\n",
        "    def __init__(self,maxn=100):\n",
        "        self.a=np.zeros(maxn)\n",
        "        self.n=0\n",
        "    def insert(self,x):\n",
        "        self.a[self.n] = x # Insertar valor al final del array\n",
        "        self.n += 1 # Aumentar en uno la cantidad de elementos\n",
        "        index = self.n-1 # Índice del array\n",
        "        if self.a[index] > self.a[parent(index)]: # Caso valor mayor a su padre\n",
        "            if level(self.n)%2 == 0: # Si el nodo está en un nivel par entonces intercambiar con el padre\n",
        "                (self.a[index],self.a[parent(index)]) = (self.a[parent(index)],self.a[index]) # intercambio\n",
        "                index = parent(index) # cambiar índice al del padre\n",
        "            if index >= 3: trepar_max(self.a,index) # si el índice indica que existe al menos su nodo abuelo usar la función trepar_max\n",
        "        else: # Caso valor menor a su padre\n",
        "            if level(self.n)%2 == 1: # Si el nodo está en un nivel impar entonces intercambiar con el padre\n",
        "                (self.a[index],self.a[parent(index)]) = (self.a[parent(index)],self.a[index]) # intercambio\n",
        "                index = parent(index) # cambiar índice al del padre\n",
        "            if index >= 3: trepar_min(self.a,index) # si el índice indica que existe al menos su nodo abuelo usar la función trepar_max\n",
        "    def extract_max(self):\n",
        "        assert self.n > 0 # Arreglo debe tener al menos un elemento para realizar esta operación\n",
        "        if self.n == 1: # Arreglo contiene un solo elemento\n",
        "            x = self.a[0]\n",
        "            return x\n",
        "        else: # Arreglo contiene al menos dos elementos\n",
        "            if self.n > 2: # Arreglo contiene al menos tres elementos\n",
        "                # Cálculo del mínimo\n",
        "                if self.a[1] < self.a[2]:\n",
        "                    x = self.a[2]\n",
        "                    self.a[2] = self.a[self.n-1] # Movemos el elemento sobrante hacia el casillero libre\n",
        "                    hundir_max(self.a[0:self.n-1],2,self.n-1) # Corregimos el Heap\n",
        "                else:\n",
        "                    x = self.a[1]\n",
        "                    self.a[1] = self.a[self.n-1] # Movemos el elemento sobrante hacia el casillero libre\n",
        "                    hundir_max(self.a[0:self.n-1],1,self.n-1) # Corregimos el Heap\n",
        "                self.n -= 1 # Achicamos el Heap\n",
        "                return x\n",
        "            else: # El arreglo tenía solo dos elementos\n",
        "                x = self.a[1]\n",
        "                return x\n",
        "    def extract_min(self):\n",
        "        assert self.n > 0 # Arreglo debe tener al menos un elemento para realizar esta operación\n",
        "        x = self.a[0] # Esta variable lleva el máximo, el casillero 0 queda vacante\n",
        "        self.n -= 1 # Achicamos el Heap\n",
        "        self.a[0] = self.a[self.n] # Movemos el elemento sobrante hacia el casillero libre\n",
        "        hundir_min(self.a[0:self.n],0,self.n) # Corregimos el Heap\n",
        "        return x\n",
        "    def imprimir(self):\n",
        "        print(self.a[0:self.n])\n",
        "\n",
        "h = Min_Max_Heap(14)\n",
        "h.insert(1)\n",
        "h.insert(10)\n",
        "h.insert(2)\n",
        "h.insert(9)\n",
        "h.insert(3)\n",
        "h.insert(8)\n",
        "h.insert(4)\n",
        "h.insert(7)\n",
        "h.insert(5)\n",
        "h.insert(6)\n",
        "h.insert(90)\n",
        "h.insert(52)\n",
        "h.insert(15)\n",
        "h.insert(13)\n",
        "h.imprimir()\n",
        "assert Min_Max_Heap_es_valido(h.a), h.a\n",
        "min = h.extract_min()\n",
        "assert min == 1, min\n",
        "h.imprimir()\n",
        "max = h.extract_max()\n",
        "assert max == 90, max\n",
        "h.imprimir()"
      ],
      "metadata": {
        "id": "wrNu0zpzs_62",
        "colab": {
          "base_uri": "https://localhost:8080/"
        },
        "outputId": "e4904e91-a481-44a5-d73b-8ba4679348ae"
      },
      "execution_count": null,
      "outputs": [
        {
          "output_type": "stream",
          "name": "stdout",
          "text": [
            "[ 1. 90. 52.  5.  3.  2.  4.  9.  7.  6. 10.  8. 15. 13.]\n",
            "[ 2. 90. 52.  5.  3. 13.  4.  9.  7.  6. 10.  8. 15.]\n",
            "[ 2. 15. 52.  5.  3. 13.  4.  9.  7.  6. 10.  8.]\n"
          ]
        }
      ]
    },
    {
      "cell_type": "markdown",
      "source": [
        "# Para los curiosos"
      ],
      "metadata": {
        "id": "BuF6DZfCmrdc"
      }
    },
    {
      "cell_type": "markdown",
      "source": [
        "## Implementación de un `Max_Heap` que dibujo los estados intermedios."
      ],
      "metadata": {
        "id": "O4i8c_7Tmtjr"
      }
    },
    {
      "cell_type": "markdown",
      "source": [
        "En caso de que usted desee agregarle visualización a su  solución, a continuación se muestra cómo visualizar la operación de un heap común y corriente. Usted puede usar este código como base o como inspiración para una implementación visualizada de lo que se pide en esta tarea."
      ],
      "metadata": {
        "id": "qisAOm9aGv5f"
      }
    },
    {
      "cell_type": "code",
      "source": [
        "import graphviz\n",
        "from IPython.display import display_svg, SVG,display\n",
        "\n",
        "import numpy as np\n",
        "\n",
        "def dibuja_heap(heap,n,dot=graphviz.Digraph(engine=\"dot\",format=\"svg\"),prefix=\"\"):\n",
        "    \"Dibuja un heap dado como un arreglo.\"\n",
        "    position_of_last_internal_node = n//2\n",
        "    for i,v in enumerate(heap[:n]):\n",
        "        dot.node(prefix+str(i),str(v))\n",
        "    for i in range(position_of_last_internal_node-1):\n",
        "        dot.edge(prefix+str(i),prefix+str(2*(i+1)-1))\n",
        "        dot.edge(prefix+str(i),prefix+str(2*(i+1)))\n",
        "    if n>1:\n",
        "        dot.edge(prefix+str(position_of_last_internal_node-1),prefix+str(2*(position_of_last_internal_node)-1))\n",
        "        if 2*position_of_last_internal_node<n:\n",
        "        dot.edge(prefix+str(position_of_last_internal_node-1),prefix+str(2*position_of_last_internal_node))\n",
        "    return dot\n",
        "\n",
        "class Max_Heap:\n",
        "    def __init__(self,maxn=100,que_dibujar=\"todo\"):\n",
        "        self.a=np.zeros(maxn)\n",
        "        self.n=0\n",
        "        self.dot = graphviz.Digraph(engine=\"dot\",format=\"svg\")\n",
        "        self.time=0\n",
        "        self.que_dibujar = que_dibujar\n",
        "    def insert(self,x):\n",
        "        assert self.n<len(self.a)\n",
        "        self.a[self.n]=x\n",
        "        a.trepar(self.n)\n",
        "        self.n+=1\n",
        "        if self.que_dibujar != \"nada\":\n",
        "          self.capture_the_moment()\n",
        "\n",
        "    def extract_max(self):\n",
        "        assert self.n>0\n",
        "        x=self.a[0] # esta variable lleva el máximo, el casillero 0 queda vacante\n",
        "        self.n-=1   # achicamos el heap\n",
        "        self.a[0]=self.a[self.n] # movemos el elemento sobrante hacia el casillero vacante\n",
        "        a.hundir(0,self.n)\n",
        "        if self.que_dibujar != \"nada\":\n",
        "          self.capture_the_moment()\n",
        "        return x\n",
        "\n",
        "    def imprimir(self):\n",
        "        print(self.a[0:self.n])\n",
        "    def trepar(self,j): # El elemento a[j] trepa hasta su nivel de prioridad\n",
        "        while j>=1 and self.a[j]>self.a[(j-1)//2]:\n",
        "            (self.a[j],self.a[(j-1)//2])=(self.a[(j-1)//2],self.a[j]) # intercambiamos con el padre\n",
        "            j=(j-1)//2 # subimos al lugar del padre\n",
        "            if self.que_dibujar == \"todo\":\n",
        "              self.capture_the_moment()\n",
        "    def hundir(self,j,n): # El elemento a[j] se hunde hasta su nivel de prioridad\n",
        "        while 2*j+1<n: # mientras tenga al menos 1 hijo\n",
        "            k=2*j+1 # el hijo izquierdo\n",
        "            if k+1<n and self.a[k+1]>self.a[k]: # el hijo derecho existe y es mayor\n",
        "                k+=1\n",
        "            if self.a[j]>=self.a[k]: # tiene mejor prioridad que ambos hijos\n",
        "                break\n",
        "            (self.a[j],self.a[k])=(self.a[k],self.a[j]) # se intercambia con el mayor de los hijos\n",
        "            j=k # bajamos al lugar del mayor de los hijos\n",
        "            if self.que_dibujar == \"todo\":\n",
        "              self.capture_the_moment()\n",
        "\n",
        "    def capture_the_moment(self):\n",
        "      moment = \"---\"+str(self.time)+\"---\"\n",
        "      self.dot.node(repr(moment),\"t=\"+str(self.time))\n",
        "      self.dot.edge(repr(moment),moment+\"0\") #Edge to the root of the heap\n",
        "      self.dot = dibuja_heap(heap=self.a,n=self.n,dot=self.dot,prefix=moment)\n",
        "      self.time+=1\n",
        "\n",
        "    def dibuja(self):\n",
        "      svg = self.dot.pipe().decode('utf-8')\n",
        "      return SVG(svg)\n"
      ],
      "metadata": {
        "id": "7Fuuk4enOQRx",
        "colab": {
          "base_uri": "https://localhost:8080/",
          "height": 130
        },
        "outputId": "8e8f7575-947d-4ae2-e0e3-66993cd437c0"
      },
      "execution_count": null,
      "outputs": [
        {
          "output_type": "error",
          "ename": "IndentationError",
          "evalue": "ignored",
          "traceback": [
            "\u001b[0;36m  File \u001b[0;32m\"<ipython-input-3-8256fe84f530>\"\u001b[0;36m, line \u001b[0;32m17\u001b[0m\n\u001b[0;31m    dot.edge(prefix+str(position_of_last_internal_node-1),prefix+str(2*position_of_last_internal_node))\u001b[0m\n\u001b[0m      ^\u001b[0m\n\u001b[0;31mIndentationError\u001b[0m\u001b[0;31m:\u001b[0m expected an indented block\n"
          ]
        }
      ]
    },
    {
      "cell_type": "markdown",
      "source": [
        "Uno puede dibujar el estado del heap despues de cada insercion y extraccion:"
      ],
      "metadata": {
        "id": "uS7zjAExnKi1"
      }
    },
    {
      "cell_type": "code",
      "source": [
        "a=Max_Heap(10,que_dibujar=\"inserciones y extracciones\")\n",
        "a.insert(1)\n",
        "a.insert(2)\n",
        "a.insert(3)\n",
        "a.insert(4)\n",
        "a.insert(5)\n",
        "a.insert(6)\n",
        "a.insert(7)\n",
        "a.insert(8)\n",
        "a.insert(9)\n",
        "a.insert(10)\n",
        "a.dibuja()"
      ],
      "metadata": {
        "id": "K7PxHBFTnJCL"
      },
      "execution_count": null,
      "outputs": []
    },
    {
      "cell_type": "markdown",
      "source": [
        "O uno puede dibujar el estado del heap después de cada movimiento de elemento (e.g. dentro de `hundir`):\n",
        "En el ejemplo abajo, observen cómo el elemento \"10\" está insertado \"abajo\" del heap, y progresivamente sube en el árbol."
      ],
      "metadata": {
        "id": "e4iHoqvenQqA"
      }
    },
    {
      "cell_type": "code",
      "source": [
        "a=Max_Heap(10,que_dibujar=\"nada\")\n",
        "a.insert(1)\n",
        "a.insert(2)\n",
        "a.insert(3)\n",
        "a.insert(4)\n",
        "a.insert(5)\n",
        "a.insert(6)\n",
        "a.insert(7)\n",
        "a.insert(8)\n",
        "a.insert(9)\n",
        "a.que_dibujar = \"todo\"\n",
        "a.insert(10)\n",
        "a.dibuja()"
      ],
      "metadata": {
        "id": "LuNKB0t5nAY6"
      },
      "execution_count": null,
      "outputs": []
    }
  ],
  "metadata": {
    "colab": {
      "collapsed_sections": [
        "O4i8c_7Tmtjr"
      ],
      "provenance": [],
      "include_colab_link": true
    },
    "kernelspec": {
      "display_name": "Python 3",
      "language": "python",
      "name": "python3"
    },
    "language_info": {
      "codemirror_mode": {
        "name": "ipython",
        "version": 3
      },
      "file_extension": ".py",
      "mimetype": "text/x-python",
      "name": "python",
      "nbconvert_exporter": "python",
      "pygments_lexer": "ipython3",
      "version": "3.8.8"
    }
  },
  "nbformat": 4,
  "nbformat_minor": 0
}