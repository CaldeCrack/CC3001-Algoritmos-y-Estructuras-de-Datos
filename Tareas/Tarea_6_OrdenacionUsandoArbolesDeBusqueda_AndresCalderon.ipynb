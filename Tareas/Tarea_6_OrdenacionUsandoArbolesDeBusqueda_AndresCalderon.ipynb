{
  "cells": [
    {
      "cell_type": "markdown",
      "metadata": {
        "id": "view-in-github",
        "colab_type": "text"
      },
      "source": [
        "<a href=\"https://colab.research.google.com/github/CaldeCrack/CC3001-Algoritmos-y-Estructuras-de-Datos/blob/main/Tareas/Tarea_6_OrdenacionUsandoArbolesDeBusqueda_AndresCalderon.ipynb\" target=\"_parent\"><img src=\"https://colab.research.google.com/assets/colab-badge.svg\" alt=\"Open In Colab\"/></a>"
      ]
    },
    {
      "cell_type": "markdown",
      "metadata": {
        "id": "jbGTgr_lRz25"
      },
      "source": [
        "# CC3001 2022-2 - Tarea 6: Ordenación usando árboles de búsqueda -- Andrés Calderón Guardia"
      ]
    },
    {
      "cell_type": "markdown",
      "metadata": {
        "id": "shGWx5JEm7G0"
      },
      "source": [
        "\n",
        "## Profesores: Nelson Baloian, Jérémy Barbay, Benjamín Bustos, Patricio Poblete"
      ]
    },
    {
      "cell_type": "markdown",
      "source": [
        "Según las condiciones de su sección, pueden entregar un link a su tarea en `colab` o subir un archivo en el formato Jupyter NoteBook (`.ipynb`). Puede crear todas las funciones auxiliares que requiera para implementar las funciones solicitadas."
      ],
      "metadata": {
        "id": "p9PfvURTpvan"
      }
    },
    {
      "cell_type": "markdown",
      "source": [
        "# El Problema\n"
      ],
      "metadata": {
        "id": "JfNAzhuAxcHa"
      }
    },
    {
      "cell_type": "markdown",
      "metadata": {
        "id": "Airlyusam2BK"
      },
      "source": [
        "\n",
        "Se desea implementar y comparar métodos de ordenación, que reciban un arreglo y ordenen su contenido en orden ascendente.\n",
        "\n",
        "Estos métodos deben usar el siguiente enfoque:\n",
        "\n",
        "* Crear un árbol de búsqueda, inicialmente vacío\n",
        "* Insertar uno por uno todos los elementos del arreglo en al árbol\n",
        "* Recorrer el árbol en inorden para ir llenando el arreglo con los elementos ordenados\n",
        "\n",
        "Usted debe implementar dos métodos distintos de ordenación usando este esquema. La diferencia está en el tipo de árbol de búsqueda utilizado. Estos deben ser:\n",
        "\n",
        "1. Un árbol de búsqueda binaria, sin balance (ABB)\n",
        "1. Un árbol AVL\n",
        "\n",
        "A continuación, usted debe probar sus métodos con las datos que se le indicará."
      ]
    },
    {
      "cell_type": "markdown",
      "source": [
        "Aparte de los usos de funciones de `numpy` que aparecen en el código provisto en el enunciado, en esta tarea ustedes no tendrían necesidad de utilizar funciones de `numpy` o de otras librerías (pero se espera que utilicen código relevante de los apuntes del curso).\n"
      ],
      "metadata": {
        "id": "GT0cKnXQQp9e"
      }
    },
    {
      "cell_type": "markdown",
      "source": [
        "# Su solución"
      ],
      "metadata": {
        "id": "AWKuBJkGpk-6"
      }
    },
    {
      "cell_type": "code",
      "execution_count": null,
      "metadata": {
        "id": "7YrvXfpMxGx0"
      },
      "outputs": [],
      "source": [
        "import numpy as np\n",
        "\n",
        "# Clase ABB del apunte\n",
        "# Se agregar el método inorder() para hacer el recorrido inorden mientras se arregla la lista a\n",
        "class Nodoi:\n",
        "    def __init__(self, izq, info, der):\n",
        "        self.izq=izq\n",
        "        self.info=info\n",
        "        self.der=der\n",
        "\n",
        "    def insert(self,x):\n",
        "        assert x!=self.info\n",
        "        if x<self.info:\n",
        "            return Nodoi(self.izq.insert(x),self.info,self.der)\n",
        "        else:\n",
        "            return Nodoi(self.izq,self.info,self.der.insert(x))\n",
        "\n",
        "    def inorder(self,i):\n",
        "        i = self.izq.inorder(i) # Recorrer el lado izquierdo\n",
        "        a[i] = self.info # Una vez recorrido el lado izquierdo se modifica el valor correspondiente del nodo\n",
        "        i += 1 # Se aumenta en 1 el índice\n",
        "        i = self.der.inorder(i) # Recorrer el lado derecho\n",
        "        return i # Memorizar el índice en el que se está actualmente\n",
        "\n",
        "class Nodoe:\n",
        "    def __init__(self):\n",
        "        pass\n",
        "\n",
        "    def insert(self,x):\n",
        "        return Nodoi(Nodoe(),x,Nodoe())\n",
        "\n",
        "    def inorder(self,i):\n",
        "        return i # En un nodo externo no se agrega ningún elemento a la lista\n",
        "\n",
        "class Arbol:\n",
        "    def __init__(self,raiz=Nodoe()):\n",
        "        self.raiz=raiz\n",
        "\n",
        "    def insert(self,x):\n",
        "        self.raiz=self.raiz.insert(x)\n",
        "\n",
        "    def inorder(self,i):\n",
        "        if self.raiz == Nodoe(): return # Verificar que el árbol tenga al menos un elemento\n",
        "        i = self.raiz.izq.inorder(i) # Recorrer el lado izquierdo\n",
        "        a[i] = self.raiz.info # Una vez recorrido el lado izquierdo se modifica el valor correspondiente de la raíz\n",
        "        i += 1 # Se aumenta en 1 el índice\n",
        "        self.raiz.der.inorder(i) # Recorrer el lado derecho\n",
        "\n",
        "def ordena_ABB(a):\n",
        "    tree = Arbol() # Inicialización de un ABB\n",
        "    for i in a: tree.insert(i) # Insertar los elementos del arreglo en el árbol\n",
        "    tree.inorder(0) # Hacer recorrido inorden"
      ]
    },
    {
      "cell_type": "code",
      "source": [
        "# Clase AVL del apunte\n",
        "class Nodoi:\n",
        "    def __init__(self, izq, info, der):\n",
        "        self.izq=izq\n",
        "        self.info=info\n",
        "        self.der=der\n",
        "        self.height=1+max(izq.height,der.height)\n",
        "\n",
        "    def right_rotation(self):\n",
        "        return(Nodoi(self.izq.izq,\n",
        "                     self.izq.info,\n",
        "                     Nodoi(self.izq.der,self.info,self.der)))\n",
        "\n",
        "    def left_rotation(self):\n",
        "        return(Nodoi(Nodoi(self.izq,self.info,self.der.izq),\n",
        "                     self.der.info,\n",
        "                     self.der.der))\n",
        "\n",
        "    def insert(self,x):\n",
        "        assert x!=self.info\n",
        "        if x<self.info:\n",
        "            p=Nodoi(self.izq.insert(x),self.info,self.der)\n",
        "            if p.izq.height>p.der.height+1:\n",
        "                if x<p.izq.info: # inserción exterior\n",
        "                    p=p.right_rotation()\n",
        "                else: # inserción interior\n",
        "                    p=Nodoi(p.izq.left_rotation(),p.info,p.der).right_rotation()\n",
        "        else: # x>self.info, simétrico del anterior\n",
        "            p=Nodoi(self.izq,self.info,self.der.insert(x))\n",
        "            if p.der.height>p.izq.height+1:\n",
        "                if x>p.der.info: # inserción exterior\n",
        "                    p=p.left_rotation()\n",
        "                else: # inserción interior\n",
        "                    p=Nodoi(p.izq,p.info,p.der.right_rotation()).left_rotation()\n",
        "        return p\n",
        "\n",
        "    def inorder(self,i):\n",
        "        i = self.izq.inorder(i) # Recorrer el lado izquierdo\n",
        "        a[i] = self.info # Una vez recorrido el lado izquierdo se modifica el valor correspondiente del nodo\n",
        "        i += 1 # Se aumenta en 1 el índice\n",
        "        self.der.inorder(i) # Recorrer el lado derecho\n",
        "        return i # Memorizar el índice en el que se está actualmente\n",
        "\n",
        "class Nodoe:\n",
        "    def __init__(self):\n",
        "        self.height=0\n",
        "\n",
        "    def insert(self,x):\n",
        "        return Nodoi(Nodoe(),x,Nodoe())\n",
        "\n",
        "    def inorder(self,i):\n",
        "        return i # En un nodo externo no se agrega ningún elemento a la lista\n",
        "\n",
        "class ArbolAVL:\n",
        "    def __init__(self,raiz=Nodoe()):\n",
        "        self.raiz=raiz\n",
        "\n",
        "    def insert(self,x):\n",
        "        self.raiz=self.raiz.insert(x)\n",
        "\n",
        "    def inorder(self,i):\n",
        "        if self.raiz == Nodoe(): return # Verificar que el árbol tenga al menos un elemento\n",
        "        i = self.raiz.izq.inorder(i) # Recorrer el lado izquierdo\n",
        "        a[i] = self.raiz.info # Una vez recorrido el lado izquierdo se modifica el valor correspondiente de la raíz\n",
        "        i += 1 # Se aumenta en 1 el índice\n",
        "        self.raiz.der.inorder(i) # Recorrer el lado derecho\n",
        "\n",
        "def ordena_AVL(a):\n",
        "    tree = ArbolAVL() # Inicialización de un ABB\n",
        "    for i in a: tree.insert(i) # Insertar los elementos del arreglo en el árbol\n",
        "    tree.inorder(0) # Hacer recorrido inorden"
      ],
      "metadata": {
        "id": "KmxurePAx-gG"
      },
      "execution_count": null,
      "outputs": []
    },
    {
      "cell_type": "markdown",
      "metadata": {
        "id": "p9-KLukDmmpM"
      },
      "source": [
        "# Pruebas\n",
        "\n",
        "En primer lugar, hay que verificar que sus métodos ordenen correctamente."
      ]
    },
    {
      "cell_type": "code",
      "execution_count": null,
      "metadata": {
        "id": "jLLDlSKPmmpM",
        "outputId": "634d7e1c-0a8b-4a45-adfa-420cc5e998f0",
        "colab": {
          "base_uri": "https://localhost:8080/"
        }
      },
      "outputs": [
        {
          "output_type": "stream",
          "name": "stdout",
          "text": [
            "Probando ordena_ABB:\n",
            "[0.01926265 0.57419721 0.54826446 0.87082746 0.2498614  0.06367321\n",
            " 0.4537738  0.99679093 0.81839963 0.04175784 0.0821063  0.56273592]\n",
            "Antes: Desordenado\n",
            "[0.01926265 0.04175784 0.06367321 0.0821063  0.2498614  0.4537738\n",
            " 0.54826446 0.56273592 0.57419721 0.81839963 0.87082746 0.99679093]\n",
            "Después: Ordenado\n",
            "\n",
            "Probando ordena_AVL:\n",
            "[0.8462418  0.45027441 0.44216287 0.48856905 0.58273844 0.99565957\n",
            " 0.38374999 0.87533839 0.64812422 0.63336344 0.7088739  0.00837449]\n",
            "Antes: Desordenado\n",
            "[0.00837449 0.38374999 0.44216287 0.45027441 0.48856905 0.58273844\n",
            " 0.63336344 0.64812422 0.7088739  0.8462418  0.87533839 0.99565957]\n",
            "Después: Ordenado\n"
          ]
        }
      ],
      "source": [
        "# Chequear que los métodos ordenan correctamente\n",
        "\n",
        "def chequea_orden(titulo,a):\n",
        "    print(titulo+\":\", \"Ordenado\" if np.all(a[:-1]<=a[1:]) else \"Desordenado\")\n",
        "\n",
        "print(\"Probando ordena_ABB:\")\n",
        "a = np.random.random(12)\n",
        "print(a)\n",
        "chequea_orden(\"Antes\",a)\n",
        "ordena_ABB(a)\n",
        "print(a)\n",
        "chequea_orden(\"Después\",a)\n",
        "\n",
        "print()\n",
        "\n",
        "print(\"Probando ordena_AVL:\")\n",
        "a = np.random.random(12)\n",
        "print(a)\n",
        "chequea_orden(\"Antes\",a)\n",
        "ordena_AVL(a)\n",
        "print(a)\n",
        "chequea_orden(\"Después\",a)"
      ]
    },
    {
      "cell_type": "markdown",
      "source": [
        "A continuación, hay que comparar la eficiencia de los métodos en dos escenarios:\n",
        "\n",
        "**Escenario 1:**  Ordenar un arreglo que venga inicialmente ordenado. Para esto genere un arreglo conteniendo los números del 1 al $n$, para $n=200$. En cada caso medir e imprimir el tiempo que demora la ordenación."
      ],
      "metadata": {
        "id": "p-V2ZyW5teRr"
      }
    },
    {
      "cell_type": "code",
      "source": [
        "import time\n",
        "n=200\n",
        "orig=np.array(range(1,n+1))\n",
        "\n",
        "a=np.array(orig)\n",
        "ti=time.time_ns()\n",
        "ordena_ABB(a)\n",
        "tf=time.time_ns()\n",
        "print(\"ordena_ABB:\",tf-ti)\n",
        "\n",
        "a=np.array(orig)\n",
        "ti=time.time_ns()\n",
        "ordena_AVL(a)\n",
        "tf=time.time_ns()\n",
        "print(\"ordena_AVL:\",tf-ti)"
      ],
      "metadata": {
        "id": "c2rjWiDDusyg",
        "colab": {
          "base_uri": "https://localhost:8080/"
        },
        "outputId": "c7b91024-29a8-421d-8bff-2a475dff1d66"
      },
      "execution_count": null,
      "outputs": [
        {
          "output_type": "stream",
          "name": "stdout",
          "text": [
            "ordena_ABB: 61405501\n",
            "ordena_AVL: 15254567\n"
          ]
        }
      ]
    },
    {
      "cell_type": "markdown",
      "source": [
        "**Escenario 2:**  Ordenar un arreglo que contenga elementos aleatorios. Para esto genere un arreglo conteniendo $n$ número al azar, para $n=10$ mil. En cada caso medir e imprimir el tiempo que demora la ordenación. Tenemos cuidado de entregarle al método de ordenación una copia del arreglo, para que ambos puedan funcionar sobre exactamente los mismos datos."
      ],
      "metadata": {
        "id": "RJfkdMP1uz5d"
      }
    },
    {
      "cell_type": "code",
      "source": [
        "n=10000\n",
        "orig=np.random.random(n)\n",
        "\n",
        "a=np.array(orig)\n",
        "ti=time.time_ns()\n",
        "ordena_ABB(a)\n",
        "tf=time.time_ns()\n",
        "print(\"ordena_ABB:\",tf-ti)\n",
        "\n",
        "a=np.array(orig)\n",
        "ti=time.time_ns()\n",
        "ordena_AVL(a)\n",
        "tf=time.time_ns()\n",
        "print(\"ordena_AVL:\",tf-ti)"
      ],
      "metadata": {
        "id": "UVa5inUNvOt_",
        "colab": {
          "base_uri": "https://localhost:8080/"
        },
        "outputId": "3530598b-b153-4d19-a619-a97e3ff8c10a"
      },
      "execution_count": null,
      "outputs": [
        {
          "output_type": "stream",
          "name": "stdout",
          "text": [
            "ordena_ABB: 295338895\n",
            "ordena_AVL: 171441242\n"
          ]
        }
      ]
    },
    {
      "cell_type": "markdown",
      "source": [
        "# Conclusiones\n",
        "\n",
        "*Compare los resultados obtenidos en ambos escenarios y discuta cuáles serían las causas de las diferencias observadas.*"
      ],
      "metadata": {
        "id": "K3irlmHiCHx7"
      }
    },
    {
      "cell_type": "markdown",
      "source": [
        "Para ambos casos podemos observar que el tiempo que se demora en ordenar los datos es menor usando un AVL, esto dado que el mismo distribuye mejor los datos al no permitir que los nodos tengan mucha diferencia en sus alturas, y la altura repercute directamente en la eficiencia de estos métodos.\n",
        "\n",
        "Es más evidente para el caso de los datos ya ordenados puesto que el ABB solo será un árbol en que todos sus elementos van siempre hacia la rama derecha, lo cual es equivalente a un arreglo de datos, y por lo tanto, entre más altura tenga este árbol más se va a demorar en ordenar los datos, mientras que el AVL los distribuye más equitativamente mejorando así la eficiencia.\n",
        "\n",
        "Mientras que para el caso de los datos aleatorios el ABB no debería incrementar demasiado su altura asimilando su estructura a la del AVL, pero por probabilidad el ABB aun así tendrá generalmente una altura mayor que el AVL, de modo que para la mayoría de casos sigue siendo más eficiente el AVL para ordenar el arreglo."
      ],
      "metadata": {
        "id": "1rlojLNV_R74"
      }
    }
  ],
  "metadata": {
    "colab": {
      "provenance": [],
      "include_colab_link": true
    },
    "kernelspec": {
      "display_name": "Python 3 (ipykernel)",
      "language": "python",
      "name": "python3"
    },
    "language_info": {
      "codemirror_mode": {
        "name": "ipython",
        "version": 3
      },
      "file_extension": ".py",
      "mimetype": "text/x-python",
      "name": "python",
      "nbconvert_exporter": "python",
      "pygments_lexer": "ipython3",
      "version": "3.9.6"
    }
  },
  "nbformat": 4,
  "nbformat_minor": 0
}